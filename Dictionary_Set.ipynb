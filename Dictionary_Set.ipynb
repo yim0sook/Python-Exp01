{
 "cells": [
  {
   "cell_type": "code",
   "execution_count": null,
   "metadata": {},
   "outputs": [],
   "source": [
    "fruit = {\"orange\":\"a sweet, orange,citrus fruit\",\n",
    "          \"apple\":\"good for making a cider\",\n",
    "          \"lemon\":\"a sour, yellow citrus fruit\",\n",
    "          \"grape\":\"a small, sweet fruit growing in bunches\",\n",
    "           \"lime\": \"a sour, green citrus fruit\"}\n",
    "print(fruit)\n",
    "# list, tuples uses index, but dictionary use the key\n",
    "# syntex key and : the rest of values associated with key\n",
    "print(fruit[\"lemon\"])\n"
   ]
  },
  {
   "cell_type": "code",
   "execution_count": null,
   "metadata": {},
   "outputs": [],
   "source": [
    "# to add the entry , use assign value, key always use [] \n",
    "fruit[\"pear\"] = \"an add shapre apple\"\n",
    "print(fruit)\n",
    "\n",
    "# if new values assigned, then it will replace the existing values\n",
    "fruit[\"pear\"] = \"great with tequila\"\n",
    "print(fruit)\n"
   ]
  },
  {
   "cell_type": "code",
   "execution_count": null,
   "metadata": {},
   "outputs": [],
   "source": [
    "# if two keys have different values, the latest will replace the earlier value\n",
    "fruit = {\"orange\":\"a sweet, orange,citrus fruit\",\n",
    "          \"apple\":\"good for making a cider\",\n",
    "          \"lemon\":\"a sour, yellow citrus fruit\",\n",
    "          \"grape\":\"a small, sweet fruit growing in bunches\",\n",
    "           \"lime\": \"a sour, green citrus fruit\",\n",
    "           \"apple\":\"round and crunchy\" }\n",
    "print(fruit)\n",
    "# to delete key-value, use del\n",
    "del fruit[\"lemon\"]\n",
    "print(fruit)\n",
    "# it will delete entire fruit dictionary\n",
    "# del fruit\n",
    "fruit.clear()\n",
    "print(fruit)"
   ]
  },
  {
   "cell_type": "code",
   "execution_count": null,
   "metadata": {},
   "outputs": [],
   "source": [
    "# dictionary.get() function , passing key and check if key exist and return the mating values\n",
    "# in funciton checks if key exist in dictionary\n",
    "\n",
    "fruit = {\"orange\":\"a sweet, orange,citrus fruit\",\n",
    "          \"apple\":\"good for making a cider\",\n",
    "          \"lemon\":\"a sour, yellow citrus fruit\",\n",
    "          \"grape\":\"a small, sweet fruit growing in bunches\",\n",
    "           \"lime\": \"a sour, green citrus fruit\"}\n",
    "print(fruit)\n",
    "while True:\n",
    "    dict_key = input(\"Please enter a fruit: \")\n",
    "    if dict_key == \"quit\":\n",
    "        break\n",
    "    if dict_key in fruit:\n",
    "        description = fruit.get(dict_key)\n",
    "        print(description)\n",
    "    else:\n",
    "        print(\"we don't have \" + dict_key)"
   ]
  },
  {
   "cell_type": "code",
   "execution_count": null,
   "metadata": {},
   "outputs": [],
   "source": [
    "bike = {\"make\": \"Honda\",\"mode\":\"250 dream\",\"colour\":\"red\",\"engine_size\":250}\n",
    "print(bike[\"engine_size\"])\n",
    "print(bike[\"colour\"])"
   ]
  },
  {
   "cell_type": "code",
   "execution_count": null,
   "metadata": {},
   "outputs": [],
   "source": [
    "fruit = {\"orange\":\"a sweet, orange,citrus fruit\",\n",
    "          \"apple\":\"good for making a cider\",\n",
    "          \"lemon\":\"a sour, yellow citrus fruit\",\n",
    "          \"grape\":\"a small, sweet fruit growing in bunches\",\n",
    "           \"lime\": \"a sour, green citrus fruit\"}\n",
    "print(fruit)\n",
    "while True:\n",
    "    dict_key = input(\"Please enter a fruit: \")\n",
    "    if dict_key == \"quit\":\n",
    "        break\n",
    "    description = fruit.get(dict_key, \"we don't have a \" + dict_key)\n",
    "    print(description)\n",
    "    \n",
    "# above code has the same results like below. \"we don't have a\" is default value when key does not exist \n",
    "# fruit.has_key(dict_key) is pyhton 2 code, is replaced by dict_key in fruit\n",
    "# if dict_key in fruit:\n",
    "#         description = fruit.get(dict_key)\n",
    "#         print(description)\n",
    "#     else:\n",
    "#         print(\"we don't have \" + dict_key)\n",
    "    "
   ]
  },
  {
   "cell_type": "code",
   "execution_count": null,
   "metadata": {},
   "outputs": [],
   "source": [
    "# differnt results each time\n",
    "for snack in fruit:\n",
    "    print(fruit[snack])\n"
   ]
  },
  {
   "cell_type": "code",
   "execution_count": null,
   "metadata": {},
   "outputs": [],
   "source": [
    "for i in range(10):\n",
    "    for snack in fruit:\n",
    "        print(snack + \" is \" + fruit[snack])\n",
    "    print('-' * 40)"
   ]
  },
  {
   "cell_type": "code",
   "execution_count": null,
   "metadata": {},
   "outputs": [],
   "source": [
    "# ordered_keys = list(fruit.keys())\n",
    "# ordered_keys.sort()\n",
    "# same as above two lines into one line below\n",
    "ordered_keys = sorted(list(fruit.keys()))\n",
    "for f in ordered_keys:\n",
    "    print(f + \" - \" + fruit[f])"
   ]
  },
  {
   "cell_type": "code",
   "execution_count": null,
   "metadata": {},
   "outputs": [],
   "source": [
    "for f in sorted(fruit.keys()):\n",
    "    print(f + \"-\" + fruit[f])"
   ]
  },
  {
   "cell_type": "code",
   "execution_count": null,
   "metadata": {},
   "outputs": [],
   "source": [
    "# when i don't need the sort\n",
    "for f in fruit:\n",
    "    print(f + \"-\" + fruit[f])"
   ]
  },
  {
   "cell_type": "code",
   "execution_count": null,
   "metadata": {},
   "outputs": [],
   "source": [
    "# fruit.values is to get valuse, but this is not efficient like fruit.keys()\n",
    "for val in fruit.values():\n",
    "    print(val)\n"
   ]
  },
  {
   "cell_type": "code",
   "execution_count": null,
   "metadata": {},
   "outputs": [],
   "source": [
    "# same results like above but far more efficient\n",
    "for key in fruit:\n",
    "    print(fruit[key])"
   ]
  },
  {
   "cell_type": "code",
   "execution_count": null,
   "metadata": {},
   "outputs": [],
   "source": [
    "print(fruit.keys())\n",
    "print(fruit.values())"
   ]
  },
  {
   "cell_type": "code",
   "execution_count": null,
   "metadata": {},
   "outputs": [],
   "source": [
    "# to add new key, values to dictionary\n",
    "fruit_keys = fruit.keys()\n",
    "fruit[\"tomato\"] = \"not nice with ice cream\"\n",
    "print(fruit_keys)"
   ]
  },
  {
   "cell_type": "code",
   "execution_count": null,
   "metadata": {},
   "outputs": [],
   "source": [
    "# dic.items() function create tuple from dictionary\n",
    "print(fruit)\n",
    "print(fruit.items())\n",
    "f_tuple = tuple(fruit.items())\n",
    "print(f_tuple)"
   ]
  },
  {
   "cell_type": "code",
   "execution_count": null,
   "metadata": {},
   "outputs": [],
   "source": [
    "f_tuple = tuple(fruit.items())\n",
    "for snack in f_tuple:\n",
    "    item, description = snack\n",
    "    print(item + \" is \" + description)"
   ]
  },
  {
   "cell_type": "code",
   "execution_count": null,
   "metadata": {},
   "outputs": [],
   "source": [
    "# dict function creates dictionary from tuple\n",
    "print(dict(f_tuple))"
   ]
  },
  {
   "cell_type": "code",
   "execution_count": null,
   "metadata": {},
   "outputs": [],
   "source": [
    "fruit = {\"orange\":\"a sweet, orange,citrus fruit\",\n",
    "          \"apple\":\"good for making a cider\",\n",
    "          \"lemon\":\"a sour, yellow citrus fruit\",\n",
    "          \"grape\":\"a small, sweet fruit growing in bunches\",\n",
    "           \"lime\": \"a sour, green citrus fruit\"}\n",
    "print(fruit)\n",
    "\n",
    "veg = {\"cabbage\":\"every child's favourite\",\n",
    "       \"sprouts\":\"mmmm, lovely\",\n",
    "       \"spinach\":\"can I have some more fruit, please\"}\n",
    "print(veg)\n",
    "\n",
    "veg.update(fruit) # adding fruit dictionary to the veg dictionary  veg + fruit\n",
    "print(veg)\n",
    "\n",
    "# fruit.update(veg)  # add veg to fruit dictionary  fruit + veg\n",
    "# print(fruit)\n",
    "\n",
    "print(fruit.update(veg))  # None - new object is not returned but fruit is updated\n",
    "print(fruit)"
   ]
  },
  {
   "cell_type": "code",
   "execution_count": null,
   "metadata": {},
   "outputs": [],
   "source": [
    "# create dictionary contains fruit and veg, but do not change the original dictionary\n",
    "# copy the dictionaries\n",
    "fruit = {\"orange\":\"a sweet, orange,citrus fruit\",\n",
    "          \"apple\":\"good for making a cider\",\n",
    "          \"lemon\":\"a sour, yellow citrus fruit\",\n",
    "          \"grape\":\"a small, sweet fruit growing in bunches\",\n",
    "           \"lime\": \"a sour, green citrus fruit\"}\n",
    "\n",
    "veg = {\"cabbage\":\"every child's favourite\",\n",
    "       \"sprouts\":\"mmmm, lovely\",\n",
    "       \"spinach\":\"can I have some more fruit, please\"}\n",
    "\n",
    "nice_and_nasty = fruit.copy()\n",
    "nice_and_nasty.update(veg)\n",
    "print(nice_and_nasty)   # create new dictionary nice_and_nasty, and no change to veg and fruit\n",
    "print(veg)\n",
    "print(fruit)"
   ]
  },
  {
   "cell_type": "code",
   "execution_count": 16,
   "metadata": {},
   "outputs": [
    {
     "name": "stdout",
     "output_type": "stream",
     "text": [
      "{'hen', 'cow', 'sheep'}\n",
      "hen\n",
      "cow\n",
      "sheep\n",
      "========================================\n",
      "{'Tiger', 'Lion', 'panther', 'elephant'}\n",
      "Tiger\n",
      "Lion\n",
      "panther\n",
      "elephant\n",
      "{'hen', 'cow', 'sheep', 'horse'}\n",
      "{'Lion', 'elephant', 'Tiger', 'panther', 'horse'}\n"
     ]
    }
   ],
   "source": [
    "# Set is immutable, no keys\n",
    "# create a set by using {}\n",
    "farm_animals = {\"sheep\", \"cow\",\"hen\"}\n",
    "print(farm_animals)\n",
    "\n",
    "for animals in farm_animals:\n",
    "    print(animals)\n",
    "\n",
    "print(\"=\" * 40)\n",
    "\n",
    "# create a set using built in function set by passing the list to built in function SET\n",
    "wild_animals = set([\"Lion\",\"Tiger\",\"panther\",\"elephant\"])\n",
    "print(wild_animals)\n",
    "\n",
    "for animal in wild_animals:\n",
    "    print(animal)\n",
    "\n",
    "# add the entry to set, set is not ordered so whenever run, order changes\n",
    "farm_animals.add(\"horse\")\n",
    "wild_animals.add(\"horse\")\n",
    "print(farm_animals)\n",
    "print(wild_animals)\n"
   ]
  },
  {
   "cell_type": "code",
   "execution_count": null,
   "metadata": {},
   "outputs": [],
   "source": [
    "# to create a empty set, I need to use SET built in function\n",
    "# usring bracket will give an error as this is to create a empty distionary not a set\n",
    "# so set.add() function will not work\n",
    "empty_set = set()\n",
    "empty_set_2 = {}\n",
    "empty_set.add(\"a\")\n",
    "empty_set_2.add(\"a\")\n"
   ]
  },
  {
   "cell_type": "code",
   "execution_count": 4,
   "metadata": {},
   "outputs": [
    {
     "name": "stdout",
     "output_type": "stream",
     "text": [
      "{0, 32, 2, 34, 4, 36, 6, 38, 8, 10, 12, 14, 16, 18, 20, 22, 24, 26, 28, 30}\n",
      "{4, 6, 9, 16, 25}\n"
     ]
    }
   ],
   "source": [
    "# when to create a seting using range. list and tuples, have to use SET constructor rather than {}\n",
    "even = set(range(0,40,2))\n",
    "print(even)\n",
    "# create a set from tuple\n",
    "squares_tuple = (4,6,9,16,25)\n",
    "squares = set(squares_tuple)\n",
    "print(squares)"
   ]
  },
  {
   "cell_type": "code",
   "execution_count": null,
   "metadata": {},
   "outputs": [],
   "source": [
    "even = set(range(0,40,2))\n",
    "print(even)\n",
    "print(len(even))  # number of elements\n",
    "\n",
    "squares_tuple = (4,6,9,16,25)\n",
    "squares = set(squares_tuple)\n",
    "print(squares)\n",
    "print(len(squares))\n",
    "\n",
    "# union command untion two sets into one set, one number repeat once\n",
    "print(even.union(squares))\n",
    "print(len(even.union(squares)))\n",
    "\n",
    "print(squares.union(even))\n",
    "\n",
    "print(\"-\" * 40)\n",
    "\n",
    "# to select the data present in both sets\n",
    "print(even.intersection(squares))\n",
    "print(even & squares)\n",
    "print(squares.intersection(even))\n",
    "print(squares & even)\n"
   ]
  },
  {
   "cell_type": "code",
   "execution_count": 4,
   "metadata": {},
   "outputs": [
    {
     "name": "stdout",
     "output_type": "stream",
     "text": [
      "[0, 2, 4, 6, 8, 10, 12, 14, 16, 18, 20, 22, 24, 26, 28, 30, 32, 34, 36, 38]\n",
      "[4, 6, 9, 16, 25]\n",
      "even minus squares\n",
      "[0, 2, 8, 10, 12, 14, 18, 20, 22, 24, 26, 28, 30, 32, 34, 36, 38]\n",
      "[0, 2, 8, 10, 12, 14, 18, 20, 22, 24, 26, 28, 30, 32, 34, 36, 38]\n",
      "squares minus even\n",
      "{9, 25}\n",
      "{9, 25}\n"
     ]
    }
   ],
   "source": [
    "# subtracting set b from set a, removes any item exists set b from set a\n",
    "even = set(range(0,40,2))\n",
    "print(sorted(even))\n",
    "squares_tuple = (4,6,9,16,25)\n",
    "squares = set(squares_tuple)\n",
    "print(sorted(squares))\n",
    "\n",
    "# difference method is same as '-', but it is more clear to use the difference\n",
    "# return a new set objects \n",
    "print(\"even minus squares\")\n",
    "print(sorted(even.difference(squares)))\n",
    "print(sorted(even - squares))\n",
    "\n",
    "print(\"squares minus even\")\n",
    "print(squares.difference(even))\n",
    "print(squares - even)\n"
   ]
  },
  {
   "cell_type": "code",
   "execution_count": 6,
   "metadata": {},
   "outputs": [
    {
     "name": "stdout",
     "output_type": "stream",
     "text": [
      "[0, 2, 4, 6, 8, 10, 12, 14, 16, 18, 20, 22, 24, 26, 28, 30, 32, 34, 36, 38]\n",
      "{4, 6, 9, 16, 25}\n",
      "[0, 2, 8, 10, 12, 14, 18, 20, 22, 24, 26, 28, 30, 32, 34, 36, 38]\n"
     ]
    }
   ],
   "source": [
    "even = set(range(0,40,2))\n",
    "squares_tuple = (4,6,9,16,25)\n",
    "\n",
    "# thsi is update even set, \n",
    "print(sorted(even))\n",
    "print(squares)\n",
    "even.difference_update(squares)\n",
    "print(sorted(even))\n"
   ]
  },
  {
   "cell_type": "code",
   "execution_count": 6,
   "metadata": {},
   "outputs": [
    {
     "name": "stdout",
     "output_type": "stream",
     "text": [
      "[0, 2, 4, 6, 8, 10, 12, 14, 16, 18, 20, 22, 24, 26, 28, 30, 32, 34, 36, 38]\n",
      "[4, 6, 9, 16, 25]\n",
      "symmetric even minus squares\n",
      "[0, 2, 8, 9, 10, 12, 14, 18, 20, 22, 24, 25, 26, 28, 30, 32, 34, 36, 38]\n",
      "symmetric squares minus even\n",
      "[0, 2, 8, 9, 10, 12, 14, 18, 20, 22, 24, 25, 26, 28, 30, 32, 34, 36, 38]\n"
     ]
    }
   ],
   "source": [
    "even = set(range(0,40,2))\n",
    "print(sorted(even))\n",
    "squares_tuple = (4,6,9,16,25)\n",
    "squares = set(squares_tuple)\n",
    "print(sorted(squares))\n",
    "\n",
    "# produce the same resutls , symmetric differences is the set of everthing except the common values in two sets\n",
    "print(\"symmetric even minus squares\")\n",
    "print(sorted(even.symmetric_difference(squares)))\n",
    "\n",
    "print(\"symmetric squares minus even\")\n",
    "print(sorted(squares.symmetric_difference(even)))\n"
   ]
  },
  {
   "cell_type": "code",
   "execution_count": 5,
   "metadata": {},
   "outputs": [
    {
     "name": "stdout",
     "output_type": "stream",
     "text": [
      "{6, 9, 25}\n"
     ]
    }
   ],
   "source": [
    "# remove and discared is to delete the entry from set, remove give an error if item to delete doesn't exist\n",
    "# while discard doesn't give error if item doen't exist to delete\n",
    "squares.discard(4)\n",
    "squares.remove(16)\n",
    "squares.discard(8)  # no error does nothing\n",
    "print(squares)\n",
    "\n",
    "# trap error \n",
    "try:\n",
    "    squares.remove(8)\n",
    "except KeyError:\n",
    "    print(\"The Item 8 is not a member of the set\")\n",
    "\n",
    "\n",
    "# if 8 in squares:\n",
    "#     squares.remove(8)  # error checking before remove "
   ]
  },
  {
   "cell_type": "code",
   "execution_count": 9,
   "metadata": {},
   "outputs": [
    {
     "name": "stdout",
     "output_type": "stream",
     "text": [
      "{0, 32, 2, 34, 4, 36, 6, 38, 8, 10, 12, 14, 16, 18, 20, 22, 24, 26, 28, 30}\n",
      "{16, 4, 6}\n",
      "Squares is a subset of even\n",
      "even is a superset of squares\n"
     ]
    }
   ],
   "source": [
    "even = set(range(0,40,2))\n",
    "print(even)\n",
    "squares_tuple = (4,6,16)\n",
    "squares = set(squares_tuple)\n",
    "print(squares)\n",
    "\n",
    "#issubset and issuperset mehtod\n",
    "if squares.issubset(even):\n",
    "    print(\"Squares is a subset of even\")\n",
    "\n",
    "if even.issuperset(squares):\n",
    "    print(\"even is a superset of squares\")"
   ]
  },
  {
   "cell_type": "code",
   "execution_count": 10,
   "metadata": {},
   "outputs": [
    {
     "ename": "TypeError",
     "evalue": "'float' object cannot be interpreted as an integer",
     "output_type": "error",
     "traceback": [
      "\u001b[1;31m---------------------------------------------------------------------------\u001b[0m",
      "\u001b[1;31mTypeError\u001b[0m                                 Traceback (most recent call last)",
      "\u001b[1;32m<ipython-input-10-8b1b0f92b325>\u001b[0m in \u001b[0;36m<module>\u001b[1;34m()\u001b[0m\n\u001b[0;32m      1\u001b[0m \u001b[1;31m# frozenset can not be changed, so remove, discard doesn't work\u001b[0m\u001b[1;33m\u001b[0m\u001b[1;33m\u001b[0m\u001b[0m\n\u001b[1;32m----> 2\u001b[1;33m \u001b[0meven\u001b[0m \u001b[1;33m=\u001b[0m \u001b[0mfrozenset\u001b[0m\u001b[1;33m(\u001b[0m\u001b[0mrange\u001b[0m\u001b[1;33m(\u001b[0m\u001b[1;36m0\u001b[0m\u001b[1;33m,\u001b[0m\u001b[1;36m100.2\u001b[0m\u001b[1;33m)\u001b[0m\u001b[1;33m)\u001b[0m\u001b[1;33m\u001b[0m\u001b[0m\n\u001b[0m\u001b[0;32m      3\u001b[0m \u001b[1;33m\u001b[0m\u001b[0m\n\u001b[0;32m      4\u001b[0m \u001b[0mprint\u001b[0m\u001b[1;33m(\u001b[0m\u001b[0meven\u001b[0m\u001b[1;33m)\u001b[0m\u001b[1;33m\u001b[0m\u001b[0m\n\u001b[0;32m      5\u001b[0m \u001b[0meven\u001b[0m\u001b[1;33m.\u001b[0m\u001b[0madd\u001b[0m\u001b[1;33m(\u001b[0m\u001b[1;36m3\u001b[0m\u001b[1;33m)\u001b[0m\u001b[1;33m\u001b[0m\u001b[0m\n",
      "\u001b[1;31mTypeError\u001b[0m: 'float' object cannot be interpreted as an integer"
     ]
    }
   ],
   "source": [
    "# frozenset can not be changed, so remove, discard doesn't work\n",
    "even = frozenset(range(0,100.2))\n",
    "\n",
    "print(even)\n",
    "even.add(3)"
   ]
  },
  {
   "cell_type": "code",
   "execution_count": 19,
   "metadata": {},
   "outputs": [
    {
     "name": "stdout",
     "output_type": "stream",
     "text": [
      "[' ', ',', 'b', 'c', 'd', 'g', 'h', 'k', 'l', 'm', 'n', 'p', 'r', 's', 't', 'v', 'w', 'y']\n"
     ]
    }
   ],
   "source": [
    "# takes some text and return a list of all the characters in the text\n",
    "\n",
    "String = \"Youngsook is hard working currently to chase her dream, it is very good practise to be patient\"\n",
    "Ch_string = set(String.lower())\n",
    "vowel = {\"a\",\"e\",\"i\",\"o\",\"u\"}\n",
    "\n",
    "print(sorted(Ch_string.difference(vowel)))\n",
    "\n",
    "\n",
    "# for ch in string.lower():\n",
    "#     if ch is in vowel:\n",
    "#         else:\n",
    "#             print(ch)"
   ]
  },
  {
   "cell_type": "code",
   "execution_count": 21,
   "metadata": {},
   "outputs": [
    {
     "name": "stdout",
     "output_type": "stream",
     "text": [
      "{'t', 'p', 'g', 'w', 'h', 'd', ' ', ',', 'm', 'b', 'Y', 'l', 'y', 'v', 'c', 'r', 's', 'k', 'n'}\n",
      "[' ', ',', 'Y', 'b', 'c', 'd', 'g', 'h', 'k', 'l', 'm', 'n', 'p', 'r', 's', 't', 'v', 'w', 'y']\n"
     ]
    }
   ],
   "source": [
    "# teacher's solution\n",
    "String = \"Youngsook is hard working currently to chase her dream, it is very good practise to be patient\"\n",
    "vowel = frozenset(\"aeiou\")\n",
    "# set don't get the duplicates, so if string converted to set, each character exist one time in the set\n",
    "finalSet = set(String).difference(vowel)\n",
    "print(finalSet)\n",
    "\n",
    "finalList = sorted(finalSet)\n",
    "print(finalList)"
   ]
  },
  {
   "cell_type": "code",
   "execution_count": null,
   "metadata": {},
   "outputs": [],
   "source": []
  }
 ],
 "metadata": {
  "kernelspec": {
   "display_name": "Python 3",
   "language": "python",
   "name": "python3"
  },
  "language_info": {
   "codemirror_mode": {
    "name": "ipython",
    "version": 3
   },
   "file_extension": ".py",
   "mimetype": "text/x-python",
   "name": "python",
   "nbconvert_exporter": "python",
   "pygments_lexer": "ipython3",
   "version": "3.6.5"
  }
 },
 "nbformat": 4,
 "nbformat_minor": 2
}
