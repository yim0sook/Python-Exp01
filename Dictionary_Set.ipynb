{
 "cells": [
  {
   "cell_type": "code",
   "execution_count": 7,
   "metadata": {},
   "outputs": [
    {
     "name": "stdout",
     "output_type": "stream",
     "text": [
      "{'orange': 'a sweet, orange,citrus fruit', 'apple': 'good for making a cider', 'lemon': 'a sour, yellow citrus fruit', 'grape': 'a small, sweet fruit growing in bunches', 'lime': 'a sour, green citrus fruit'}\n",
      "a sour, yellow citrus fruit\n"
     ]
    }
   ],
   "source": [
    "fruit = {\"orange\":\"a sweet, orange,citrus fruit\",\n",
    "          \"apple\":\"good for making a cider\",\n",
    "          \"lemon\":\"a sour, yellow citrus fruit\",\n",
    "          \"grape\":\"a small, sweet fruit growing in bunches\",\n",
    "           \"lime\": \"a sour, green citrus fruit\"}\n",
    "print(fruit)\n",
    "# list, tuples uses index, but dictionary use the key\n",
    "# syntex key and : the rest of values associated with key\n",
    "print(fruit[\"lemon\"])\n"
   ]
  },
  {
   "cell_type": "code",
   "execution_count": 10,
   "metadata": {},
   "outputs": [
    {
     "name": "stdout",
     "output_type": "stream",
     "text": [
      "{'orange': 'a sweet, orange,citrus fruit', 'apple': 'good for making a cider', 'lemon': 'a sour, yellow citrus fruit', 'grape': 'a small, sweet fruit growing in bunches', 'lime': 'a sour, green citrus fruit', 'pear': 'an add shapre apple'}\n",
      "{'orange': 'a sweet, orange,citrus fruit', 'apple': 'good for making a cider', 'lemon': 'a sour, yellow citrus fruit', 'grape': 'a small, sweet fruit growing in bunches', 'lime': 'a sour, green citrus fruit', 'pear': 'great with tequila'}\n"
     ]
    }
   ],
   "source": [
    "# to add the entry , use assign value, key always use [] \n",
    "fruit[\"pear\"] = \"an add shapre apple\"\n",
    "print(fruit)\n",
    "\n",
    "# if new values assigned, then it will replace the existing values\n",
    "fruit[\"pear\"] = \"great with tequila\"\n",
    "print(fruit)\n"
   ]
  },
  {
   "cell_type": "code",
   "execution_count": 15,
   "metadata": {},
   "outputs": [
    {
     "name": "stdout",
     "output_type": "stream",
     "text": [
      "{'orange': 'a sweet, orange,citrus fruit', 'apple': 'round and crunchy', 'lemon': 'a sour, yellow citrus fruit', 'grape': 'a small, sweet fruit growing in bunches', 'lime': 'a sour, green citrus fruit'}\n",
      "{'orange': 'a sweet, orange,citrus fruit', 'apple': 'round and crunchy', 'grape': 'a small, sweet fruit growing in bunches', 'lime': 'a sour, green citrus fruit'}\n",
      "{}\n"
     ]
    }
   ],
   "source": [
    "# if two keys have different values, the latest will replace the earlier value\n",
    "fruit = {\"orange\":\"a sweet, orange,citrus fruit\",\n",
    "          \"apple\":\"good for making a cider\",\n",
    "          \"lemon\":\"a sour, yellow citrus fruit\",\n",
    "          \"grape\":\"a small, sweet fruit growing in bunches\",\n",
    "           \"lime\": \"a sour, green citrus fruit\",\n",
    "           \"apple\":\"round and crunchy\" }\n",
    "print(fruit)\n",
    "# to delete key-value, use del\n",
    "del fruit[\"lemon\"]\n",
    "print(fruit)\n",
    "# it will delete entire fruit dictionary\n",
    "# del fruit\n",
    "fruit.clear()\n",
    "print(fruit)"
   ]
  },
  {
   "cell_type": "code",
   "execution_count": 20,
   "metadata": {},
   "outputs": [
    {
     "name": "stdout",
     "output_type": "stream",
     "text": [
      "{'orange': 'a sweet, orange,citrus fruit', 'apple': 'good for making a cider', 'lemon': 'a sour, yellow citrus fruit', 'grape': 'a small, sweet fruit growing in bunches', 'lime': 'a sour, green citrus fruit'}\n",
      "Please enter a fruit: apple\n",
      "good for making a cider\n",
      "Please enter a fruit: banana\n",
      "we don't havebanana\n",
      "Please enter a fruit: grape\n",
      "a small, sweet fruit growing in bunches\n",
      "Please enter a fruit: apple\n",
      "good for making a cider\n",
      "Please enter a fruit: kiwi\n",
      "we don't havekiwi\n",
      "Please enter a fruit: quit\n"
     ]
    }
   ],
   "source": [
    "# dictionary.get() function , passing key and check if key exist and return the mating values\n",
    "# in funciton checks if key exist in dictionary\n",
    "\n",
    "fruit = {\"orange\":\"a sweet, orange,citrus fruit\",\n",
    "          \"apple\":\"good for making a cider\",\n",
    "          \"lemon\":\"a sour, yellow citrus fruit\",\n",
    "          \"grape\":\"a small, sweet fruit growing in bunches\",\n",
    "           \"lime\": \"a sour, green citrus fruit\"}\n",
    "print(fruit)\n",
    "while True:\n",
    "    dict_key = input(\"Please enter a fruit: \")\n",
    "    if dict_key == \"quit\":\n",
    "        break\n",
    "    if dict_key in fruit:\n",
    "        description = fruit.get(dict_key)\n",
    "        print(description)\n",
    "    else:\n",
    "        print(\"we don't have \" + dict_key)"
   ]
  },
  {
   "cell_type": "code",
   "execution_count": 5,
   "metadata": {},
   "outputs": [
    {
     "name": "stdout",
     "output_type": "stream",
     "text": [
      "250\n",
      "red\n"
     ]
    }
   ],
   "source": [
    "bike = {\"make\": \"Honda\",\"mode\":\"250 dream\",\"colour\":\"red\",\"engine_size\":250}\n",
    "print(bike[\"engine_size\"])\n",
    "print(bike[\"colour\"])"
   ]
  },
  {
   "cell_type": "code",
   "execution_count": 1,
   "metadata": {},
   "outputs": [
    {
     "name": "stdout",
     "output_type": "stream",
     "text": [
      "{'orange': 'a sweet, orange,citrus fruit', 'apple': 'good for making a cider', 'lemon': 'a sour, yellow citrus fruit', 'grape': 'a small, sweet fruit growing in bunches', 'lime': 'a sour, green citrus fruit'}\n",
      "Please enter a fruit: orange\n",
      "a sweet, orange,citrus fruit\n",
      "Please enter a fruit: lemon\n",
      "a sour, yellow citrus fruit\n",
      "Please enter a fruit: grape\n",
      "a small, sweet fruit growing in bunches\n",
      "Please enter a fruit: apple\n",
      "good for making a cider\n",
      "Please enter a fruit: banana\n",
      "we don't have a banana\n",
      "Please enter a fruit: kiwi\n",
      "we don't have a kiwi\n",
      "Please enter a fruit: lime\n",
      "a sour, green citrus fruit\n",
      "Please enter a fruit: quit\n"
     ]
    }
   ],
   "source": [
    "fruit = {\"orange\":\"a sweet, orange,citrus fruit\",\n",
    "          \"apple\":\"good for making a cider\",\n",
    "          \"lemon\":\"a sour, yellow citrus fruit\",\n",
    "          \"grape\":\"a small, sweet fruit growing in bunches\",\n",
    "           \"lime\": \"a sour, green citrus fruit\"}\n",
    "print(fruit)\n",
    "while True:\n",
    "    dict_key = input(\"Please enter a fruit: \")\n",
    "    if dict_key == \"quit\":\n",
    "        break\n",
    "    description = fruit.get(dict_key, \"we don't have a \" + dict_key)\n",
    "    print(description)\n",
    "    \n",
    "# above code has the same results like below. \"we don't have a\" is default value when key does not exist \n",
    "# fruit.has_key(dict_key) is pyhton 2 code, is replaced by dict_key in fruit\n",
    "# if dict_key in fruit:\n",
    "#         description = fruit.get(dict_key)\n",
    "#         print(description)\n",
    "#     else:\n",
    "#         print(\"we don't have \" + dict_key)\n",
    "    "
   ]
  },
  {
   "cell_type": "code",
   "execution_count": 8,
   "metadata": {},
   "outputs": [
    {
     "name": "stdout",
     "output_type": "stream",
     "text": [
      "a sweet, orange,citrus fruit\n",
      "good for making a cider\n",
      "a sour, yellow citrus fruit\n",
      "a small, sweet fruit growing in bunches\n",
      "a sour, green citrus fruit\n"
     ]
    }
   ],
   "source": [
    "# differnt results each time\n",
    "for snack in fruit:\n",
    "    print(fruit[snack])\n"
   ]
  },
  {
   "cell_type": "code",
   "execution_count": 6,
   "metadata": {},
   "outputs": [
    {
     "name": "stdout",
     "output_type": "stream",
     "text": [
      "orange is a sweet, orange,citrus fruit\n",
      "apple is good for making a cider\n",
      "lemon is a sour, yellow citrus fruit\n",
      "grape is a small, sweet fruit growing in bunches\n",
      "lime is a sour, green citrus fruit\n",
      "----------------------------------------\n",
      "orange is a sweet, orange,citrus fruit\n",
      "apple is good for making a cider\n",
      "lemon is a sour, yellow citrus fruit\n",
      "grape is a small, sweet fruit growing in bunches\n",
      "lime is a sour, green citrus fruit\n",
      "----------------------------------------\n",
      "orange is a sweet, orange,citrus fruit\n",
      "apple is good for making a cider\n",
      "lemon is a sour, yellow citrus fruit\n",
      "grape is a small, sweet fruit growing in bunches\n",
      "lime is a sour, green citrus fruit\n",
      "----------------------------------------\n",
      "orange is a sweet, orange,citrus fruit\n",
      "apple is good for making a cider\n",
      "lemon is a sour, yellow citrus fruit\n",
      "grape is a small, sweet fruit growing in bunches\n",
      "lime is a sour, green citrus fruit\n",
      "----------------------------------------\n",
      "orange is a sweet, orange,citrus fruit\n",
      "apple is good for making a cider\n",
      "lemon is a sour, yellow citrus fruit\n",
      "grape is a small, sweet fruit growing in bunches\n",
      "lime is a sour, green citrus fruit\n",
      "----------------------------------------\n",
      "orange is a sweet, orange,citrus fruit\n",
      "apple is good for making a cider\n",
      "lemon is a sour, yellow citrus fruit\n",
      "grape is a small, sweet fruit growing in bunches\n",
      "lime is a sour, green citrus fruit\n",
      "----------------------------------------\n",
      "orange is a sweet, orange,citrus fruit\n",
      "apple is good for making a cider\n",
      "lemon is a sour, yellow citrus fruit\n",
      "grape is a small, sweet fruit growing in bunches\n",
      "lime is a sour, green citrus fruit\n",
      "----------------------------------------\n",
      "orange is a sweet, orange,citrus fruit\n",
      "apple is good for making a cider\n",
      "lemon is a sour, yellow citrus fruit\n",
      "grape is a small, sweet fruit growing in bunches\n",
      "lime is a sour, green citrus fruit\n",
      "----------------------------------------\n",
      "orange is a sweet, orange,citrus fruit\n",
      "apple is good for making a cider\n",
      "lemon is a sour, yellow citrus fruit\n",
      "grape is a small, sweet fruit growing in bunches\n",
      "lime is a sour, green citrus fruit\n",
      "----------------------------------------\n",
      "orange is a sweet, orange,citrus fruit\n",
      "apple is good for making a cider\n",
      "lemon is a sour, yellow citrus fruit\n",
      "grape is a small, sweet fruit growing in bunches\n",
      "lime is a sour, green citrus fruit\n",
      "----------------------------------------\n"
     ]
    }
   ],
   "source": [
    "for i in range(10):\n",
    "    for snack in fruit:\n",
    "        print(snack + \" is \" + fruit[snack])\n",
    "    print('-' * 40)"
   ]
  },
  {
   "cell_type": "code",
   "execution_count": 12,
   "metadata": {},
   "outputs": [
    {
     "name": "stdout",
     "output_type": "stream",
     "text": [
      "apple - good for making a cider\n",
      "grape - a small, sweet fruit growing in bunches\n",
      "lemon - a sour, yellow citrus fruit\n",
      "lime - a sour, green citrus fruit\n",
      "orange - a sweet, orange,citrus fruit\n"
     ]
    }
   ],
   "source": [
    "# ordered_keys = list(fruit.keys())\n",
    "# ordered_keys.sort()\n",
    "# same as above two lines into one line below\n",
    "ordered_keys = sorted(list(fruit.keys()))\n",
    "for f in ordered_keys:\n",
    "    print(f + \" - \" + fruit[f])"
   ]
  },
  {
   "cell_type": "code",
   "execution_count": 14,
   "metadata": {},
   "outputs": [
    {
     "name": "stdout",
     "output_type": "stream",
     "text": [
      "apple-good for making a cider\n",
      "grape-a small, sweet fruit growing in bunches\n",
      "lemon-a sour, yellow citrus fruit\n",
      "lime-a sour, green citrus fruit\n",
      "orange-a sweet, orange,citrus fruit\n"
     ]
    }
   ],
   "source": [
    "for f in sorted(fruit.keys()):\n",
    "    print(f + \"-\" + fruit[f])"
   ]
  },
  {
   "cell_type": "code",
   "execution_count": 15,
   "metadata": {},
   "outputs": [
    {
     "name": "stdout",
     "output_type": "stream",
     "text": [
      "orange-a sweet, orange,citrus fruit\n",
      "apple-good for making a cider\n",
      "lemon-a sour, yellow citrus fruit\n",
      "grape-a small, sweet fruit growing in bunches\n",
      "lime-a sour, green citrus fruit\n"
     ]
    }
   ],
   "source": [
    "# when i don't need the sort\n",
    "for f in fruit:\n",
    "    print(f + \"-\" + fruit[f])"
   ]
  },
  {
   "cell_type": "code",
   "execution_count": 16,
   "metadata": {},
   "outputs": [
    {
     "name": "stdout",
     "output_type": "stream",
     "text": [
      "a sweet, orange,citrus fruit\n",
      "good for making a cider\n",
      "a sour, yellow citrus fruit\n",
      "a small, sweet fruit growing in bunches\n",
      "a sour, green citrus fruit\n"
     ]
    }
   ],
   "source": [
    "# fruit.values is to get valuse, but this is not efficient like fruit.keys()\n",
    "for val in fruit.values():\n",
    "    print(val)\n"
   ]
  },
  {
   "cell_type": "code",
   "execution_count": 17,
   "metadata": {},
   "outputs": [
    {
     "name": "stdout",
     "output_type": "stream",
     "text": [
      "a sweet, orange,citrus fruit\n",
      "good for making a cider\n",
      "a sour, yellow citrus fruit\n",
      "a small, sweet fruit growing in bunches\n",
      "a sour, green citrus fruit\n"
     ]
    }
   ],
   "source": [
    "# same results like above but far more efficient\n",
    "for key in fruit:\n",
    "    print(fruit[key])"
   ]
  },
  {
   "cell_type": "code",
   "execution_count": 18,
   "metadata": {},
   "outputs": [
    {
     "name": "stdout",
     "output_type": "stream",
     "text": [
      "dict_keys(['orange', 'apple', 'lemon', 'grape', 'lime'])\n",
      "dict_values(['a sweet, orange,citrus fruit', 'good for making a cider', 'a sour, yellow citrus fruit', 'a small, sweet fruit growing in bunches', 'a sour, green citrus fruit'])\n"
     ]
    }
   ],
   "source": [
    "print(fruit.keys())\n",
    "print(fruit.values())"
   ]
  },
  {
   "cell_type": "code",
   "execution_count": 20,
   "metadata": {},
   "outputs": [
    {
     "name": "stdout",
     "output_type": "stream",
     "text": [
      "dict_keys(['orange', 'apple', 'lemon', 'grape', 'lime', 'tomato'])\n"
     ]
    }
   ],
   "source": [
    "# to add new key, values to dictionary\n",
    "fruit_keys = fruit.keys()\n",
    "fruit[\"tomato\"] = \"not nice with ice cream\"\n",
    "print(fruit_keys)"
   ]
  },
  {
   "cell_type": "code",
   "execution_count": 22,
   "metadata": {},
   "outputs": [
    {
     "name": "stdout",
     "output_type": "stream",
     "text": [
      "{'orange': 'a sweet, orange,citrus fruit', 'apple': 'good for making a cider', 'lemon': 'a sour, yellow citrus fruit', 'grape': 'a small, sweet fruit growing in bunches', 'lime': 'a sour, green citrus fruit', 'tomato': 'not nice with ice cream'}\n",
      "dict_items([('orange', 'a sweet, orange,citrus fruit'), ('apple', 'good for making a cider'), ('lemon', 'a sour, yellow citrus fruit'), ('grape', 'a small, sweet fruit growing in bunches'), ('lime', 'a sour, green citrus fruit'), ('tomato', 'not nice with ice cream')])\n",
      "(('orange', 'a sweet, orange,citrus fruit'), ('apple', 'good for making a cider'), ('lemon', 'a sour, yellow citrus fruit'), ('grape', 'a small, sweet fruit growing in bunches'), ('lime', 'a sour, green citrus fruit'), ('tomato', 'not nice with ice cream'))\n"
     ]
    }
   ],
   "source": [
    "# dic.items() function create tuple from dictionary\n",
    "print(fruit)\n",
    "print(fruit.items())\n",
    "f_tuple = tuple(fruit.items())\n",
    "print(f_tuple)"
   ]
  },
  {
   "cell_type": "code",
   "execution_count": 23,
   "metadata": {},
   "outputs": [
    {
     "name": "stdout",
     "output_type": "stream",
     "text": [
      "orange is a sweet, orange,citrus fruit\n",
      "apple is good for making a cider\n",
      "lemon is a sour, yellow citrus fruit\n",
      "grape is a small, sweet fruit growing in bunches\n",
      "lime is a sour, green citrus fruit\n",
      "tomato is not nice with ice cream\n"
     ]
    }
   ],
   "source": [
    "f_tuple = tuple(fruit.items())\n",
    "for snack in f_tuple:\n",
    "    item, description = snack\n",
    "    print(item + \" is \" + description)"
   ]
  },
  {
   "cell_type": "code",
   "execution_count": 24,
   "metadata": {},
   "outputs": [
    {
     "name": "stdout",
     "output_type": "stream",
     "text": [
      "{'orange': 'a sweet, orange,citrus fruit', 'apple': 'good for making a cider', 'lemon': 'a sour, yellow citrus fruit', 'grape': 'a small, sweet fruit growing in bunches', 'lime': 'a sour, green citrus fruit', 'tomato': 'not nice with ice cream'}\n"
     ]
    }
   ],
   "source": [
    "# dict function creates dictionary from tuple\n",
    "print(dict(f_tuple))"
   ]
  },
  {
   "cell_type": "code",
   "execution_count": null,
   "metadata": {},
   "outputs": [],
   "source": []
  },
  {
   "cell_type": "code",
   "execution_count": null,
   "metadata": {},
   "outputs": [],
   "source": []
  }
 ],
 "metadata": {
  "kernelspec": {
   "display_name": "Python 3",
   "language": "python",
   "name": "python3"
  },
  "language_info": {
   "codemirror_mode": {
    "name": "ipython",
    "version": 3
   },
   "file_extension": ".py",
   "mimetype": "text/x-python",
   "name": "python",
   "nbconvert_exporter": "python",
   "pygments_lexer": "ipython3",
   "version": "3.6.5"
  }
 },
 "nbformat": 4,
 "nbformat_minor": 2
}
