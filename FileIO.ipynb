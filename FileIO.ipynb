{
 "cells": [
  {
   "cell_type": "code",
   "execution_count": 4,
   "metadata": {},
   "outputs": [
    {
     "name": "stdout",
     "output_type": "stream",
     "text": [
      " a sweet, yellow, citrus fruits\n",
      " a small, sweet fruit growning in bunches\n",
      "<shelve.DbfilenameShelf object at 0x0000000005069400>\n"
     ]
    }
   ],
   "source": [
    "import shelve\n",
    "\n",
    "with shelve.open('ShelfTest') as fruit:\n",
    "    fruit['orange'] = \" a sweet, orange, citrus fruits\"\n",
    "    fruit['apple'] = \"good for making sider\"\n",
    "    fruit['lemon'] = \" a sweet, yellow, citrus fruits\"\n",
    "    fruit['grape'] = \" a small, sweet fruit growning in bunches\"\n",
    "    fruit['lime'] = \"a sour, green citrus fruit\"\n",
    "    \n",
    "    print(fruit[\"lemon\"])\n",
    "    print(fruit[\"grape\"])\n",
    "print(fruit)"
   ]
  },
  {
   "cell_type": "code",
   "execution_count": 3,
   "metadata": {},
   "outputs": [
    {
     "name": "stdout",
     "output_type": "stream",
     "text": [
      " a sweet, yellow, citrus fruits\n",
      " a small, sweet fruit growning in bunches\n",
      "{'orange': ' a sweet, orange, citrus fruits', 'apple': 'good for making sider', 'lemon': ' a sweet, yellow, citrus fruits', 'grape': ' a small, sweet fruit growning in bunches', 'lime': 'a sour, green citrus fruit'}\n"
     ]
    }
   ],
   "source": [
    "import shelve\n",
    "\n",
    "with shelve.open('ShelfTest') as fruit:\n",
    "    fruit = {\"orange\": \" a sweet, orange, citrus fruits\",\n",
    "             \"apple\": \"good for making sider\",\n",
    "             \"lemon\": \" a sweet, yellow, citrus fruits\",\n",
    "             \"grape\":\" a small, sweet fruit growning in bunches\",\n",
    "             \"lime\": \"a sour, green citrus fruit\"}\n",
    "    \n",
    "    print(fruit[\"lemon\"])\n",
    "    print(fruit[\"grape\"])\n",
    "\n",
    "print(fruit)"
   ]
  },
  {
   "cell_type": "code",
   "execution_count": 5,
   "metadata": {},
   "outputs": [
    {
     "name": "stdout",
     "output_type": "stream",
     "text": [
      " a sweet, yellow, citrus fruits\n",
      " a small, sweet fruit growning in bunches\n",
      "<shelve.DbfilenameShelf object at 0x00000000050694A8>\n"
     ]
    }
   ],
   "source": [
    "import shelve\n",
    "\n",
    "# with shelve.open('ShelfTest') as fruit:\n",
    "fruit= shelve.open('ShelfTest')\n",
    "fruit['orange'] = \" a sweet, orange, citrus fruits\"\n",
    "fruit['apple'] = \"good for making sider\"\n",
    "fruit['lemon'] = \" a sweet, yellow, citrus fruits\"\n",
    "fruit['grape'] = \" a small, sweet fruit growning in bunches\"\n",
    "fruit['lime'] = \"a sour, green citrus fruit\"\n",
    "    \n",
    "print(fruit[\"lemon\"])\n",
    "print(fruit[\"grape\"])\n",
    "fruit.close()\n",
    "print(fruit)"
   ]
  },
  {
   "cell_type": "code",
   "execution_count": null,
   "metadata": {},
   "outputs": [],
   "source": [
    "import shelve\n",
    "while shelve.open(\"bike\") as bike:\n",
    "    bike[\"make\"] = \"Honda\"\n",
    "    bike['model'] = \"250\"\n",
    "    "
   ]
  }
 ],
 "metadata": {
  "kernelspec": {
   "display_name": "Python 3",
   "language": "python",
   "name": "python3"
  },
  "language_info": {
   "codemirror_mode": {
    "name": "ipython",
    "version": 3
   },
   "file_extension": ".py",
   "mimetype": "text/x-python",
   "name": "python",
   "nbconvert_exporter": "python",
   "pygments_lexer": "ipython3",
   "version": "3.6.5"
  }
 },
 "nbformat": 4,
 "nbformat_minor": 2
}
