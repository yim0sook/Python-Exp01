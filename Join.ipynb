{
 "cells": [
  {
   "cell_type": "code",
   "execution_count": null,
   "metadata": {},
   "outputs": [],
   "source": [
    "myList = [\"a\",\"b\",\"c\",\"d\"]\n",
    "\n",
    "newString = ''\n",
    "for c in myList:\n",
    "    newString += c + \",\"\n",
    "\n",
    "print(newString)"
   ]
  },
  {
   "cell_type": "code",
   "execution_count": null,
   "metadata": {},
   "outputs": [],
   "source": [
    "myList = [\"a\",\"b\",\"c\",\"d\"]\n",
    "\n",
    "newString = \",\".join(myList)\n",
    "\n",
    "print(newString)"
   ]
  },
  {
   "cell_type": "code",
   "execution_count": 1,
   "metadata": {},
   "outputs": [
    {
     "name": "stdout",
     "output_type": "stream",
     "text": [
      "a, b, c, d, e, f, g, h, i, j, k, l, m, n, o, p, q, r, s, t, u, v, x, y, z\n"
     ]
    }
   ],
   "source": [
    "letters = \"abcdefghijklmnopqrstuvxyz\"\n",
    "\n",
    "newString = ''\n",
    "newString = \", \".join(letters)\n",
    "\n",
    "print(newString)"
   ]
  },
  {
   "cell_type": "code",
   "execution_count": 2,
   "metadata": {},
   "outputs": [
    {
     "name": "stdout",
     "output_type": "stream",
     "text": [
      "1 mississippi 2 mississippi 3 mississippi 4 mississippi 5 mississippi 6 mississippi 7 mississippi 8 mississippi 9\n"
     ]
    }
   ],
   "source": [
    "numbers = \"123456789\"\n",
    "newString = ''\n",
    "newString = \" mississippi \".join(numbers)\n",
    "print(newString)"
   ]
  },
  {
   "cell_type": "code",
   "execution_count": 3,
   "metadata": {},
   "outputs": [
    {
     "name": "stdout",
     "output_type": "stream",
     "text": [
      "You are standing at the end of a road before a small brick building\n"
     ]
    },
    {
     "ename": "NameError",
     "evalue": "name 'availableExits' is not defined",
     "output_type": "error",
     "traceback": [
      "\u001b[1;31m---------------------------------------------------------------------------\u001b[0m",
      "\u001b[1;31mNameError\u001b[0m                                 Traceback (most recent call last)",
      "\u001b[1;32m<ipython-input-3-6c32ad67b744>\u001b[0m in \u001b[0;36m<module>\u001b[1;34m()\u001b[0m\n\u001b[0;32m     24\u001b[0m         \u001b[1;32mbreak\u001b[0m\u001b[1;33m\u001b[0m\u001b[0m\n\u001b[0;32m     25\u001b[0m \u001b[1;33m\u001b[0m\u001b[0m\n\u001b[1;32m---> 26\u001b[1;33m     \u001b[0mdirection\u001b[0m \u001b[1;33m=\u001b[0m \u001b[0minput\u001b[0m\u001b[1;33m(\u001b[0m\u001b[1;34m\"Available exits are \"\u001b[0m \u001b[1;33m+\u001b[0m \u001b[0mavailableExits\u001b[0m \u001b[1;33m+\u001b[0m \u001b[1;34m\" \"\u001b[0m\u001b[1;33m)\u001b[0m\u001b[1;33m.\u001b[0m\u001b[0mupper\u001b[0m\u001b[1;33m(\u001b[0m\u001b[1;33m)\u001b[0m\u001b[1;33m\u001b[0m\u001b[0m\n\u001b[0m\u001b[0;32m     27\u001b[0m     \u001b[0mprint\u001b[0m\u001b[1;33m(\u001b[0m\u001b[1;33m)\u001b[0m\u001b[1;33m\u001b[0m\u001b[0m\n\u001b[0;32m     28\u001b[0m     \u001b[1;32mif\u001b[0m \u001b[0mdirection\u001b[0m \u001b[1;32min\u001b[0m \u001b[0mexits\u001b[0m\u001b[1;33m[\u001b[0m\u001b[0mloc\u001b[0m\u001b[1;33m]\u001b[0m\u001b[1;33m:\u001b[0m\u001b[1;33m\u001b[0m\u001b[0m\n",
      "\u001b[1;31mNameError\u001b[0m: name 'availableExits' is not defined"
     ]
    }
   ],
   "source": [
    "locations = {0: \"You are sitting in front of a computer learing Python\",\n",
    "             1: \"You are standing at the end of a road before a small brick building\",\n",
    "             2: \"You are at the top of a hill\",\n",
    "             3: \"You are inside a building, a well house for a small stream\",\n",
    "             4: \"You are in a valley beside a stream\",\n",
    "             5: \"You are in the forest\"}\n",
    "exits = [{\"Q\": 0},\n",
    "         {\"W\": 2,\"E\": 3,\"N\":5, \"S\":4, \"Q\":0},  # road = 1\n",
    "         {\"N\":5, \"Q\": 0},                      # Hill = 2\n",
    "         {\"W\":1, \"Q\": 0},                      # Building = 3\n",
    "         {\"N\":1, \"W\": 2, \"Q\": 0},              # Valley = 4         \n",
    "         {\"W\":2, \"S\":1, \"Q\": 0}]               # Forest = 5\n",
    "\n",
    "loc = 1\n",
    "while True:\n",
    "    availalbeExits = \", \".join(exits[loc].keys())\n",
    "#     availableExits = \"\"\n",
    "#     for direction in exits[loc].keys():\n",
    "#         availableExits += direction + \", \"\n",
    "        \n",
    "    print(locations[loc])\n",
    "        \n",
    "    if loc == 0:\n",
    "        break\n",
    "            \n",
    "    direction = input(\"Available exits are \" + availableExits + \" \").upper()\n",
    "    print()\n",
    "    if direction in exits[loc]:\n",
    "        loc = exits[loc][direction]\n",
    "    else:\n",
    "        print(\"You cannot go in that direction\")\n"
   ]
  },
  {
   "cell_type": "code",
   "execution_count": null,
   "metadata": {},
   "outputs": [],
   "source": []
  },
  {
   "cell_type": "code",
   "execution_count": null,
   "metadata": {},
   "outputs": [],
   "source": []
  }
 ],
 "metadata": {
  "kernelspec": {
   "display_name": "Python 3",
   "language": "python",
   "name": "python3"
  },
  "language_info": {
   "codemirror_mode": {
    "name": "ipython",
    "version": 3
   },
   "file_extension": ".py",
   "mimetype": "text/x-python",
   "name": "python",
   "nbconvert_exporter": "python",
   "pygments_lexer": "ipython3",
   "version": "3.6.5"
  }
 },
 "nbformat": 4,
 "nbformat_minor": 2
}
