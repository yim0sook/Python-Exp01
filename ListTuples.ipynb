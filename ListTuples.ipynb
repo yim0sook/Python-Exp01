{
 "cells": [
  {
   "cell_type": "code",
   "execution_count": 1,
   "metadata": {},
   "outputs": [
    {
     "name": "stdout",
     "output_type": "stream",
     "text": [
      "Please enter an IP address10.2.2.2\n",
      "3\n"
     ]
    }
   ],
   "source": [
    "ipAddress = input(\"Please enter an IP address\")\n",
    "print(ipAddress.count(\".\"))"
   ]
  },
  {
   "cell_type": "code",
   "execution_count": 2,
   "metadata": {},
   "outputs": [
    {
     "name": "stdout",
     "output_type": "stream",
     "text": [
      "This parrot is non pinin\n",
      "This parrot is no more\n",
      "This parrot is a stiff\n",
      "This parrot is bereft of live\n",
      "This parrot is A Norweign Blue\n"
     ]
    }
   ],
   "source": [
    "parrot_list = [\"non pinin\",\"no more\",\"a stiff\",\"bereft of live\"]\n",
    "parrot_list.append(\"A Norweign Blue\")\n",
    "for state in parrot_list:\n",
    "    print(\"This parrot is \" + state)"
   ]
  },
  {
   "cell_type": "code",
   "execution_count": 33,
   "metadata": {},
   "outputs": [
    {
     "name": "stdout",
     "output_type": "stream",
     "text": [
      "None\n",
      "[1, 2, 3, 4, 5, 6, 7, 8, 9]\n"
     ]
    }
   ],
   "source": [
    "#The sorted() function can be used to return a new, sorted list. \n",
    "#The sort function, that's used here, sorts the list in place, and returns None.\n",
    "#The return value is what we've asked Python to print.\n",
    "\n",
    "even = [2,4,6,8]\n",
    "odd = [1,3,5,7,9]\n",
    "\n",
    "numbers = even + odd\n",
    "print(numbers.sort())\n",
    "numbers.sort()\n",
    "print(numbers)"
   ]
  },
  {
   "cell_type": "code",
   "execution_count": 8,
   "metadata": {},
   "outputs": [
    {
     "name": "stdout",
     "output_type": "stream",
     "text": [
      "[1, 2, 3, 4, 5, 6, 7, 8, 9]\n",
      "The lists are not equal\n"
     ]
    }
   ],
   "source": [
    "even = [2,4,6,8]\n",
    "odd = [1,3,5,7,9]\n",
    "\n",
    "numbers = even + odd\n",
    "numbers_in_order = sorted(numbers)\n",
    "print(numbers_in_order)\n",
    "\n",
    "if numbers == numbers_in_order:\n",
    "    print(\"The lists are equal\")\n",
    "else:\n",
    "    print(\"The lists are not equal\")"
   ]
  },
  {
   "cell_type": "code",
   "execution_count": 9,
   "metadata": {},
   "outputs": [
    {
     "name": "stdout",
     "output_type": "stream",
     "text": [
      "The lists are equal\n"
     ]
    }
   ],
   "source": [
    "numbers_in_order = sorted(numbers)\n",
    "if numbers_in_order == sorted(numbers):\n",
    "    print(\"The lists are equal\")\n",
    "else:\n",
    "    print(\"The lists are not equal\")"
   ]
  },
  {
   "cell_type": "code",
   "execution_count": 3,
   "metadata": {},
   "outputs": [
    {
     "name": "stdout",
     "output_type": "stream",
     "text": [
      "[[2, 4, 6, 8], [1, 3, 5, 7, 9]]\n",
      "[2, 4, 6, 8]\n",
      "2\n",
      "4\n",
      "6\n",
      "8\n",
      "[1, 3, 5, 7, 9]\n",
      "1\n",
      "3\n",
      "5\n",
      "7\n",
      "9\n"
     ]
    }
   ],
   "source": [
    "even = [2,4,6,8]\n",
    "odd = [1,3,5,7,9]\n",
    "Listnumber = [even, odd]\n",
    "print(Listnumber)\n",
    "for num in Listnumber:\n",
    "    print(num)\n",
    "    for values in num:\n",
    "        print(values)\n",
    "        \n",
    "        \n",
    "    \n"
   ]
  },
  {
   "cell_type": "code",
   "execution_count": 8,
   "metadata": {},
   "outputs": [
    {
     "name": "stdout",
     "output_type": "stream",
     "text": [
      "['egg', 'sausage', 'bacon']\n",
      "egg\n",
      "sausage\n",
      "bacon\n"
     ]
    }
   ],
   "source": [
    "menu = []\n",
    "menu.append([\"egg\",\"spam\",\"bacon\"])\n",
    "menu.append([\"egg\",\"sausage\",\"bacon\"])\n",
    "menu.append([\"egg\",\"spam\"])\n",
    "menu.append([\"egg\",\"bacon\",\"spam\"])\n",
    "menu.append([\"egg\",\"bacon\",\"sausage\",\"spam\"])\n",
    "menu.append([\"spam\",\"bacon\",\"sausage\",\"spam\"])\n",
    "menu.append([\"spam\",\"egg\",\"spam\",\"spam\",\"bacon\",\"spam\"])\n",
    "menu.append([\"spam\",\"egg\",\"sausage\",\"spam\"])\n",
    "\n",
    "#print(menu)\n",
    "\n",
    "for meal in menu:\n",
    "    if not \"spam\" in meal:\n",
    "        print(meal)\n",
    "        for ingredient in meal:\n",
    "            print(ingredient)"
   ]
  },
  {
   "cell_type": "code",
   "execution_count": 8,
   "metadata": {},
   "outputs": [
    {
     "name": "stdout",
     "output_type": "stream",
     "text": [
      "<str_iterator object at 0x0000000005238748>\n",
      "1\n",
      "2\n",
      "3\n",
      "4\n",
      "5\n",
      "6\n",
      "7\n",
      "8\n",
      "9\n",
      "0\n"
     ]
    },
    {
     "ename": "StopIteration",
     "evalue": "",
     "output_type": "error",
     "traceback": [
      "\u001b[1;31m---------------------------------------------------------------------------\u001b[0m",
      "\u001b[1;31mStopIteration\u001b[0m                             Traceback (most recent call last)",
      "\u001b[1;32m<ipython-input-8-f0a1b1795f30>\u001b[0m in \u001b[0;36m<module>\u001b[1;34m()\u001b[0m\n\u001b[0;32m     18\u001b[0m \u001b[1;33m\u001b[0m\u001b[0m\n\u001b[0;32m     19\u001b[0m \u001b[1;31m# after 0, next iterator will fail, then can be used as error checking\u001b[0m\u001b[1;33m\u001b[0m\u001b[1;33m\u001b[0m\u001b[0m\n\u001b[1;32m---> 20\u001b[1;33m \u001b[0mprint\u001b[0m\u001b[1;33m(\u001b[0m\u001b[0mnext\u001b[0m\u001b[1;33m(\u001b[0m\u001b[0mmy_iterator\u001b[0m\u001b[1;33m)\u001b[0m\u001b[1;33m)\u001b[0m\u001b[1;33m\u001b[0m\u001b[0m\n\u001b[0m",
      "\u001b[1;31mStopIteration\u001b[0m: "
     ]
    }
   ],
   "source": [
    "string=\"1234567890\"\n",
    "\n",
    "# for char in string:\n",
    "#     print(char)\n",
    "\n",
    "my_iterator = iter(string)\n",
    "print(my_iterator)\n",
    "print(next(my_iterator))\n",
    "print(next(my_iterator))\n",
    "print(next(my_iterator))\n",
    "print(next(my_iterator))\n",
    "print(next(my_iterator))\n",
    "print(next(my_iterator))\n",
    "print(next(my_iterator))\n",
    "print(next(my_iterator))\n",
    "print(next(my_iterator))\n",
    "print(next(my_iterator))\n",
    "\n",
    "# after 0, next iterator will fail, then can be used as error checking\n",
    "print(next(my_iterator))"
   ]
  },
  {
   "cell_type": "code",
   "execution_count": 51,
   "metadata": {},
   "outputs": [],
   "source": [
    "# below code produce the same results, for loop actaully add iter function and if \n",
    "# no more to iter, it became error conditon, so for loop stop\n",
    "# for char in string:\n",
    "#     print(char)\n",
    "    \n",
    "# for char in iter(string):\n",
    "#     print(char)"
   ]
  },
  {
   "cell_type": "code",
   "execution_count": 21,
   "metadata": {},
   "outputs": [
    {
     "name": "stdout",
     "output_type": "stream",
     "text": [
      "Challenge\n",
      "here\n",
      "dream\n",
      "continue\n",
      "Challenge\n",
      "here\n",
      "dream\n",
      "continue\n"
     ]
    }
   ],
   "source": [
    "proverb = [\"Challenge\",\"here\",\"dream\",\"continue\"]\n",
    "# my_iter = iter(proverb)\n",
    "# print(my_iter)\n",
    "\n",
    "# for n in range(len(proverb)):\n",
    "#     print(next(my_iter))\n",
    "\n",
    "my_iter = iter(proverb)\n",
    "\n",
    "for i in range(0,len(proverb)):\n",
    "    next_item = next(my_iter)\n",
    "    print(next_item)\n",
    "\n",
    "# same results like above\n",
    "for i in proverb:\n",
    "    print(i)\n",
    "\n",
    "    \n"
   ]
  },
  {
   "cell_type": "code",
   "execution_count": 25,
   "metadata": {},
   "outputs": [
    {
     "name": "stdout",
     "output_type": "stream",
     "text": [
      "[0, 1, 2, 3, 4, 5, 6, 7, 8, 9]\n",
      "[0, 2, 4, 6, 8, 10, 12, 14, 16, 18, 20, 22, 24, 26, 28, 30, 32, 34, 36, 38, 40, 42, 44, 46, 48, 50, 52, 54, 56, 58, 60, 62, 64, 66, 68, 70, 72, 74, 76, 78, 80, 82, 84, 86, 88, 90, 92, 94, 96, 98]\n",
      "[1, 3, 5, 7, 9, 11, 13, 15, 17, 19, 21, 23, 25, 27, 29, 31, 33, 35, 37, 39, 41, 43, 45, 47, 49, 51, 53, 55, 57, 59, 61, 63, 65, 67, 69, 71, 73, 75, 77, 79, 81, 83, 85, 87, 89, 91, 93, 95, 97, 99]\n"
     ]
    }
   ],
   "source": [
    "my_list = list(range(10))\n",
    "print(my_list)\n",
    "\n",
    "even = list(range(0,100,2))\n",
    "odd = list(range(1,100,2))\n",
    "\n",
    "print(even)\n",
    "print(odd)\n",
    "            "
   ]
  },
  {
   "cell_type": "code",
   "execution_count": 26,
   "metadata": {},
   "outputs": [
    {
     "name": "stdout",
     "output_type": "stream",
     "text": [
      "4\n",
      "e\n"
     ]
    }
   ],
   "source": [
    "my_string = \"abcdefghijklmnopqrstuvwxyz\"\n",
    "print(my_string.index('e'))\n",
    "print(my_string[4])\n"
   ]
  },
  {
   "cell_type": "code",
   "execution_count": 31,
   "metadata": {},
   "outputs": [
    {
     "name": "stdout",
     "output_type": "stream",
     "text": [
      "range(0, 10)\n",
      "3\n",
      "range(0, 10, 2)\n",
      "2\n"
     ]
    }
   ],
   "source": [
    "small_decimals = range(0,10)\n",
    "print(small_decimals)\n",
    "print(small_decimals.index(3))\n",
    "# ::2 means start and end position use the default, so range 0 to 10 '2' means skipping values\n",
    "my_range = small_decimals[::2]\n",
    "print(my_range)\n",
    "print(my_range.index(4))"
   ]
  },
  {
   "cell_type": "code",
   "execution_count": 30,
   "metadata": {},
   "outputs": [
    {
     "name": "stdout",
     "output_type": "stream",
     "text": [
      "1971\n",
      "Please enter a positive number:987\n",
      "987 is divisible by seven\n"
     ]
    }
   ],
   "source": [
    "odd = range(1,10000,2)\n",
    "print(odd[985])\n",
    "sevens = range(7,100000,7)\n",
    "x = int(input(\"Please enter a positive number:\"))\n",
    "if x in sevens:\n",
    "    print(\"{} is divisible by seven\".format(x))"
   ]
  },
  {
   "cell_type": "code",
   "execution_count": 33,
   "metadata": {},
   "outputs": [
    {
     "name": "stdout",
     "output_type": "stream",
     "text": [
      "range(0, 100)\n",
      "range(3, 40, 3)\n",
      "3\n",
      "6\n",
      "9\n",
      "12\n",
      "15\n",
      "18\n",
      "21\n",
      "24\n",
      "27\n",
      "30\n",
      "33\n",
      "36\n",
      "39\n",
      "========================================\n",
      "3\n",
      "6\n",
      "9\n",
      "12\n",
      "15\n",
      "18\n",
      "21\n",
      "24\n",
      "27\n",
      "30\n",
      "33\n",
      "36\n",
      "39\n",
      "True\n"
     ]
    }
   ],
   "source": [
    "decimals = range(0,100)\n",
    "print(decimals)\n",
    "\n",
    "my_range = decimals[3:40:3]\n",
    "print(my_range)\n",
    "\n",
    "for i in my_range:\n",
    "    print(i)\n",
    "\n",
    "print('=' * 40)\n",
    "\n",
    "for i in range(3,40,3):\n",
    "    print(i)\n",
    "\n",
    "print(my_range == range(3,40,3))"
   ]
  },
  {
   "cell_type": "code",
   "execution_count": 35,
   "metadata": {},
   "outputs": [
    {
     "name": "stdout",
     "output_type": "stream",
     "text": [
      "True\n",
      "[0, 2, 4]\n",
      "[0, 2, 4]\n"
     ]
    }
   ],
   "source": [
    "print((range(0,5,2) == range(0,6,2)))\n",
    "print(list(range(0,5,2)))\n",
    "print(list(range(0,6,2)))"
   ]
  },
  {
   "cell_type": "code",
   "execution_count": 38,
   "metadata": {},
   "outputs": [
    {
     "name": "stdout",
     "output_type": "stream",
     "text": [
      "range(0, 100)\n"
     ]
    }
   ],
   "source": [
    "r = range(0,100)\n",
    "print(r)\n",
    "# -2 reverse range\n",
    "# for i in r[:: -2]:\n",
    "#     print(i)\n",
    "# for i in range(99,0,-2):\n",
    "#     print(i)\n",
    "# #both are same results"
   ]
  },
  {
   "cell_type": "code",
   "execution_count": 40,
   "metadata": {},
   "outputs": [
    {
     "name": "stdout",
     "output_type": "stream",
     "text": [
      "True\n"
     ]
    }
   ],
   "source": [
    "print(range(0,100)[::-2] == range(99, 0,-2))\n",
    "# range start from 0 to 100 so from o -2 is not within the range\n",
    "for i in range(0,100,-2):\n",
    "    print(i)"
   ]
  },
  {
   "cell_type": "code",
   "execution_count": 43,
   "metadata": {},
   "outputs": [
    {
     "name": "stdout",
     "output_type": "stream",
     "text": [
      "Pythton is a very powerful language\n",
      "9\n",
      "8\n",
      "7\n",
      "6\n",
      "5\n",
      "4\n",
      "3\n",
      "2\n",
      "1\n",
      "0\n"
     ]
    }
   ],
   "source": [
    "# revers the string\n",
    "backString = \"egaugnal lufrewop yrev a si nothtyP\"\n",
    "print(backString[::-1])\n",
    "\n",
    "r = range(0,10) \n",
    "for i in r[::-1]:\n",
    "    print(i)\n",
    "\n"
   ]
  },
  {
   "cell_type": "code",
   "execution_count": 49,
   "metadata": {},
   "outputs": [
    {
     "name": "stdout",
     "output_type": "stream",
     "text": [
      "range(0, 50, 5)\n",
      "[0, 5, 10, 15, 20, 25, 30, 35, 40, 45]\n",
      "0\n",
      "5\n",
      "10\n",
      "15\n",
      "20\n",
      "25\n",
      "30\n",
      "35\n",
      "40\n",
      "45\n"
     ]
    }
   ],
   "source": [
    "mulfive = range(0,50,5)\n",
    "print(mulfive)\n",
    "fiveList = list(mulfive)\n",
    "print(fiveList)\n",
    "for num in mulfive:\n",
    "    print(num)\n"
   ]
  },
  {
   "cell_type": "code",
   "execution_count": 57,
   "metadata": {},
   "outputs": [
    {
     "name": "stdout",
     "output_type": "stream",
     "text": [
      "range(0, 30)\n",
      "29\n",
      "26\n",
      "23\n",
      "20\n",
      "17\n",
      "14\n",
      "11\n",
      "8\n",
      "5\n",
      "2\n"
     ]
    }
   ],
   "source": [
    "test = range(0,30)\n",
    "print(test)\n",
    "for i  in test[29:0:-3]:\n",
    "    print(i)\n",
    "    "
   ]
  },
  {
   "cell_type": "code",
   "execution_count": 58,
   "metadata": {},
   "outputs": [
    {
     "name": "stdout",
     "output_type": "stream",
     "text": [
      "range(0, 100, 4)\n",
      "range(0, 100, 20)\n",
      "0\n",
      "20\n",
      "40\n",
      "60\n",
      "80\n"
     ]
    }
   ],
   "source": [
    "o = range(0,100,4)\n",
    "print(o)\n",
    "p = o[::5]\n",
    "print(p)\n",
    "for i in p:\n",
    "    print(i)"
   ]
  },
  {
   "cell_type": "code",
   "execution_count": 1,
   "metadata": {},
   "outputs": [
    {
     "name": "stdout",
     "output_type": "stream",
     "text": [
      "('a', 'b', 'c')\n",
      "a b c\n",
      "('a', 'b', 'c')\n"
     ]
    }
   ],
   "source": [
    "##### TUPLES\n",
    "t = \"a\",\"b\",\"c\"  #tuples\n",
    "print(t)\n",
    "\n",
    "print(\"a\",\"b\",\"c\")  #just print a, b, c\n",
    "print((\"a\",\"b\",\"c\"))  #to print tuples, put ()"
   ]
  },
  {
   "cell_type": "code",
   "execution_count": 8,
   "metadata": {},
   "outputs": [
    {
     "name": "stdout",
     "output_type": "stream",
     "text": [
      "('Ride ghe Lightning', 'Metallica', 1984)\n",
      "Ride ghe Lightning\n",
      "Metallica\n",
      "1984\n",
      "('More Mayhen', 'Imelda May', 2011)\n"
     ]
    },
    {
     "ename": "TypeError",
     "evalue": "'tuple' object does not support item assignment",
     "output_type": "error",
     "traceback": [
      "\u001b[1;31m---------------------------------------------------------------------------\u001b[0m",
      "\u001b[1;31mTypeError\u001b[0m                                 Traceback (most recent call last)",
      "\u001b[1;32m<ipython-input-8-333fdd77fcb1>\u001b[0m in \u001b[0;36m<module>\u001b[1;34m()\u001b[0m\n\u001b[0;32m     13\u001b[0m \u001b[0mimelda\u001b[0m \u001b[1;33m=\u001b[0m \u001b[0mimelda\u001b[0m\u001b[1;33m[\u001b[0m\u001b[1;36m0\u001b[0m\u001b[1;33m]\u001b[0m\u001b[1;33m,\u001b[0m\u001b[1;34m\"Imelda May\"\u001b[0m\u001b[1;33m,\u001b[0m\u001b[0mimelda\u001b[0m\u001b[1;33m[\u001b[0m\u001b[1;36m2\u001b[0m\u001b[1;33m]\u001b[0m\u001b[1;33m\u001b[0m\u001b[0m\n\u001b[0;32m     14\u001b[0m \u001b[0mprint\u001b[0m\u001b[1;33m(\u001b[0m\u001b[0mimelda\u001b[0m\u001b[1;33m)\u001b[0m\u001b[1;33m\u001b[0m\u001b[0m\n\u001b[1;32m---> 15\u001b[1;33m \u001b[0mmetallica\u001b[0m\u001b[1;33m[\u001b[0m\u001b[1;36m0\u001b[0m\u001b[1;33m]\u001b[0m \u001b[1;33m=\u001b[0m \u001b[1;34m\"will error\"\u001b[0m\u001b[1;33m\u001b[0m\u001b[0m\n\u001b[0m",
      "\u001b[1;31mTypeError\u001b[0m: 'tuple' object does not support item assignment"
     ]
    }
   ],
   "source": [
    "# differnt date types in one tuple - heterogeneous items\n",
    "welcom = \"welcome to my Nightmare\",\"Alice Cooper\",1975  \n",
    "bad = \"Bad Company\",\"Bad Company\",1974\n",
    "budgie = \"Nightflight\",\"Budgie\",1981\n",
    "imelda = \"More Mayhen\",\"Emilda May\",2011\n",
    "metallica = \"Ride ghe Lightning\",\"Metallica\",1984\n",
    "\n",
    "print(metallica)\n",
    "print(metallica[0])\n",
    "print(metallica[1])\n",
    "print(metallica[2])\n",
    "\n",
    "imelda = imelda[0],\"Imelda May\",imelda[2]  # to change imelda[1] to Imelda from Emilda\n",
    "print(imelda)\n",
    "metallica[0] = \"will error\""
   ]
  },
  {
   "cell_type": "code",
   "execution_count": 14,
   "metadata": {},
   "outputs": [
    {
     "name": "stdout",
     "output_type": "stream",
     "text": [
      "['Ride the Lightning', 'Metallica', 1984]\n",
      "More Mayhen\n",
      "Imilda May\n",
      "2011\n"
     ]
    }
   ],
   "source": [
    "welcom = \"welcome to my Nightmare\",\"Alice Cooper\",1975  \n",
    "bad = \"Bad Company\",\"Bad Company\",1974\n",
    "budgie = \"Nightflight\",\"Budgie\",1981\n",
    "imelda = \"More Mayhen\",\"Imilda May\",2011\n",
    "metallica = \"Ride ghe Lightning\",\"Metallica\",1984\n",
    "\n",
    "metallica2 = [\"Ride the Lightning\",\"Metallica\",1984]\n",
    "print(metallica2)\n",
    "\n",
    "# unpack each tuple values to new variables\n",
    "title,artist,year = imelda\n",
    "print(title)\n",
    "print(artist)\n",
    "print(year)\n",
    "\n"
   ]
  },
  {
   "cell_type": "code",
   "execution_count": 16,
   "metadata": {},
   "outputs": [
    {
     "name": "stdout",
     "output_type": "stream",
     "text": [
      "['Ride the Lightning', 'Metallica', 1984]\n",
      "['Master of Puppets', 'Metallica', 1984]\n",
      "['Master of Puppets', 'Metallica', 1984]\n"
     ]
    },
    {
     "ename": "ValueError",
     "evalue": "too many values to unpack (expected 3)",
     "output_type": "error",
     "traceback": [
      "\u001b[1;31m---------------------------------------------------------------------------\u001b[0m",
      "\u001b[1;31mValueError\u001b[0m                                Traceback (most recent call last)",
      "\u001b[1;32m<ipython-input-16-370c4b3d142f>\u001b[0m in \u001b[0;36m<module>\u001b[1;34m()\u001b[0m\n\u001b[0;32m      6\u001b[0m \u001b[0mmetalica2\u001b[0m\u001b[1;33m.\u001b[0m\u001b[0mappend\u001b[0m\u001b[1;33m(\u001b[0m\u001b[1;34m\"Rock\"\u001b[0m\u001b[1;33m)\u001b[0m\u001b[1;33m\u001b[0m\u001b[0m\n\u001b[0;32m      7\u001b[0m \u001b[0mprint\u001b[0m\u001b[1;33m(\u001b[0m\u001b[0mmetallica2\u001b[0m\u001b[1;33m)\u001b[0m\u001b[1;33m\u001b[0m\u001b[0m\n\u001b[1;32m----> 8\u001b[1;33m \u001b[0mtitle\u001b[0m\u001b[1;33m,\u001b[0m \u001b[0martist\u001b[0m\u001b[1;33m,\u001b[0m \u001b[0myear\u001b[0m \u001b[1;33m=\u001b[0m \u001b[0mmetalica2\u001b[0m\u001b[1;33m\u001b[0m\u001b[0m\n\u001b[0m",
      "\u001b[1;31mValueError\u001b[0m: too many values to unpack (expected 3)"
     ]
    }
   ],
   "source": [
    "metallica2 = [\"Ride the Lightning\",\"Metallica\",1984]\n",
    "print(metallica2)\n",
    "metallica2[0] = \"Master of Puppets\"\n",
    "print(metallica2)\n",
    "\n",
    "metalica2.append(\"Rock\")  # error\n",
    "print(metallica2)  # error\n",
    "title, artist, year = metalica2"
   ]
  },
  {
   "cell_type": "code",
   "execution_count": 13,
   "metadata": {},
   "outputs": [
    {
     "name": "stdout",
     "output_type": "stream",
     "text": [
      "12\n",
      "12 13\n",
      "a is 13\n",
      "b is 12\n"
     ]
    }
   ],
   "source": [
    "a=b=c=d=12\n",
    "print(c)\n",
    "a,b = 12,13\n",
    "print(a,b)\n",
    "a,b = b,a\n",
    "print(\"a is {}\".format(a))\n",
    "print(\"b is {}\".format(b))\n"
   ]
  },
  {
   "cell_type": "code",
   "execution_count": 17,
   "metadata": {},
   "outputs": [
    {
     "name": "stdout",
     "output_type": "stream",
     "text": [
      "('More Mayhen', 'Imilda May', 2011, ((1, 'Pulling the Rug'), (2, 'Psycho'), (3, 'Mayhem'), (4, 'Kentish Town Waltz')))\n",
      "More Mayhen\n",
      "Imilda May\n",
      "2011\n",
      "((1, 'Pulling the Rug'), (2, 'Psycho'), (3, 'Mayhem'), (4, 'Kentish Town Waltz'))\n"
     ]
    }
   ],
   "source": [
    "#  tuple can have tuple inside\n",
    "welcom = \"welcome to my Nightmare\",\"Alice Cooper\",1975  \n",
    "bad = \"Bad Company\",\"Bad Company\",1974\n",
    "budgie = \"Nightflight\",\"Budgie\",1981\n",
    "imelda = \"More Mayhen\",\"Imilda May\",2011, (\n",
    "      (1,\"Pulling the Rug\"),(2,\"Psycho\"),(3,\"Mayhem\"),(4,\"Kentish Town Waltz\"))\n",
    "\n",
    "print(imelda)\n",
    "title,artist,year,tracks = imelda\n",
    "print(title)\n",
    "print(artist)\n",
    "print(year)\n",
    "print(tracks)"
   ]
  },
  {
   "cell_type": "code",
   "execution_count": 18,
   "metadata": {},
   "outputs": [
    {
     "name": "stdout",
     "output_type": "stream",
     "text": [
      "('More Mayhen', 'Imilda May', 2011, (1, 'Pulling the Rug', 2, 'Psycho', 3, 'Mayhem', 4, 'Kentish Town Waltz'))\n"
     ]
    }
   ],
   "source": [
    "imelda = \"More Mayhen\",\"Imilda May\",2011, (\n",
    "      1,\"Pulling the Rug\",2,\"Psycho\",3,\"Mayhem\",4,\"Kentish Town Waltz\")\n",
    "print(imelda)"
   ]
  },
  {
   "cell_type": "code",
   "execution_count": 19,
   "metadata": {},
   "outputs": [
    {
     "name": "stdout",
     "output_type": "stream",
     "text": [
      "('More Mayhen', 'Imilda May', 2011, (1, 'Pulling the Rug'), (2, 'Psycho'), (3, 'Mayhem'), (4, 'Kentish Town Waltz'))\n",
      "More Mayhen\n",
      "Imilda May\n",
      "2011\n",
      "(1, 'Pulling the Rug')\n",
      "(2, 'Psycho')\n",
      "(3, 'Mayhem')\n",
      "(4, 'Kentish Town Waltz')\n"
     ]
    }
   ],
   "source": [
    "imelda = \"More Mayhen\",\"Imilda May\",2011, (1,\"Pulling the Rug\"),(2,\"Psycho\"),(3,\"Mayhem\"),(4,\"Kentish Town Waltz\")\n",
    "\n",
    "print(imelda)\n",
    "title,artist,year,track1,track2,track3,track4 = imelda\n",
    "print(title)\n",
    "print(artist)\n",
    "print(year)\n",
    "print(track1)\n",
    "print(track2)\n",
    "print(track3)\n",
    "print(track4)"
   ]
  },
  {
   "cell_type": "code",
   "execution_count": 29,
   "metadata": {},
   "outputs": [
    {
     "name": "stdout",
     "output_type": "stream",
     "text": [
      "More Mayhen Imilda May 2011\n",
      "\tTrack number 1, Title: Pulling the Rug\n",
      "\tTrack number 2, Title: Psycho\n",
      "\tTrack number 3, Title: Mayhem\n",
      "\tTrack number 4, Title: Kentish Town Waltz\n"
     ]
    }
   ],
   "source": [
    "imelda = \"More Mayhen\",\"Imilda May\",2011, (\n",
    "    (1,\"Pulling the Rug\"),(2,\"Psycho\"),(3,\"Mayhem\"),(4,\"Kentish Town Waltz\"))\n",
    "\n",
    "# title, artist, year, tracks = imelda\n",
    "# print(title,artist,year)\n",
    "# track1, track2, track3,track4 = tracks\n",
    "# for i in range (len(tracks)):\n",
    "#     trackNo,songTitle = track1\n",
    "#     print(trackNo,songTitle)\n",
    "\n",
    "title, artist, year, tracks = imelda\n",
    "print(title,artist,year)\n",
    "for song in tracks:\n",
    "    track,title = song\n",
    "    print(\"\\tTrack number {}, Title: {}\".format(track,title))\n"
   ]
  },
  {
   "cell_type": "code",
   "execution_count": 37,
   "metadata": {},
   "outputs": [
    {
     "name": "stdout",
     "output_type": "stream",
     "text": [
      "('More Mayhen', 'Imilda May', 2011, [(1, 'Pulling the Rug'), (2, 'Psycho'), (3, 'Mayhem'), (4, 'Kentish Town Waltz')])\n",
      "More Mayhen Imilda May 2011\n",
      "\tTrack number 1, Title: Pulling the Rug\n",
      "\tTrack number 2, Title: Psycho\n",
      "\tTrack number 3, Title: Mayhem\n",
      "\tTrack number 4, Title: Kentish Town Waltz\n",
      "\tTrack number 5, Title: All For you\n",
      "\tTrack number 6, Title: Eternity\n"
     ]
    }
   ],
   "source": [
    "# tuple which contains the list that is changeable\n",
    "imelda = \"More Mayhen\",\"Imilda May\",2011, (\n",
    "    [(1,\"Pulling the Rug\"),(2,\"Psycho\"),(3,\"Mayhem\"),(4,\"Kentish Town Waltz\")])\n",
    "\n",
    "print(imelda)\n",
    "\n",
    "imelda[3].append((5,\"All For you\"))\n",
    "title, artist, year, tracks = imelda\n",
    "#  The line should be written imelda[3].append((5, 'All For You')) with the tuple enclosed in parentheses.\n",
    "# when use append function in tuple, use (( )) double parenthesis as tuple is ()\n",
    "tracks.append((6,\"Eternity\"))\n",
    "print(title,artist,year)\n",
    "for song in tracks:\n",
    "    track,title = song\n",
    "    print(\"\\tTrack number {}, Title: {}\".format(track,title))"
   ]
  },
  {
   "cell_type": "code",
   "execution_count": 36,
   "metadata": {},
   "outputs": [
    {
     "name": "stdout",
     "output_type": "stream",
     "text": [
      "['apple', 'pine', 'pear']\n",
      "['apple', 'pine', 'pear']\n"
     ]
    }
   ],
   "source": [
    "# trees and identified_trees refer to exactly the same list. \n",
    "# Appending a new item to trees changes the list that both variables refer to - there's only 1 list, but 2 references to it.\n",
    "\n",
    "trees = [\"apple\", \"pine\"]\n",
    "fruit_trees = trees\n",
    "\n",
    "trees.append(\"pear\")\n",
    "print(trees)\n",
    "print(fruit_trees)"
   ]
  },
  {
   "cell_type": "code",
   "execution_count": null,
   "metadata": {},
   "outputs": [],
   "source": []
  }
 ],
 "metadata": {
  "kernelspec": {
   "display_name": "Python 3",
   "language": "python",
   "name": "python3"
  },
  "language_info": {
   "codemirror_mode": {
    "name": "ipython",
    "version": 3
   },
   "file_extension": ".py",
   "mimetype": "text/x-python",
   "name": "python",
   "nbconvert_exporter": "python",
   "pygments_lexer": "ipython3",
   "version": "3.6.5"
  }
 },
 "nbformat": 4,
 "nbformat_minor": 2
}
