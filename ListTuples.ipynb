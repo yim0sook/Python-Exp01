{
 "cells": [
  {
   "cell_type": "code",
   "execution_count": 1,
   "metadata": {},
   "outputs": [
    {
     "name": "stdout",
     "output_type": "stream",
     "text": [
      "Please enter an IP address10.2.2.2\n",
      "3\n"
     ]
    }
   ],
   "source": [
    "ipAddress = input(\"Please enter an IP address\")\n",
    "print(ipAddress.count(\".\"))"
   ]
  },
  {
   "cell_type": "code",
   "execution_count": 2,
   "metadata": {},
   "outputs": [
    {
     "name": "stdout",
     "output_type": "stream",
     "text": [
      "This parrot is non pinin\n",
      "This parrot is no more\n",
      "This parrot is a stiff\n",
      "This parrot is bereft of live\n",
      "This parrot is A Norweign Blue\n"
     ]
    }
   ],
   "source": [
    "parrot_list = [\"non pinin\",\"no more\",\"a stiff\",\"bereft of live\"]\n",
    "parrot_list.append(\"A Norweign Blue\")\n",
    "for state in parrot_list:\n",
    "    print(\"This parrot is \" + state)"
   ]
  },
  {
   "cell_type": "code",
   "execution_count": 5,
   "metadata": {},
   "outputs": [
    {
     "name": "stdout",
     "output_type": "stream",
     "text": [
      "[1, 2, 3, 4, 5, 6, 7, 8, 9]\n"
     ]
    }
   ],
   "source": [
    "even = [2,4,6,8]\n",
    "odd = [1,3,5,7,9]\n",
    "\n",
    "numbers = even + odd\n",
    "numbers.sort()\n",
    "print(numbers)"
   ]
  },
  {
   "cell_type": "code",
   "execution_count": 8,
   "metadata": {},
   "outputs": [
    {
     "name": "stdout",
     "output_type": "stream",
     "text": [
      "[1, 2, 3, 4, 5, 6, 7, 8, 9]\n",
      "The lists are not equal\n"
     ]
    }
   ],
   "source": [
    "even = [2,4,6,8]\n",
    "odd = [1,3,5,7,9]\n",
    "\n",
    "numbers = even + odd\n",
    "numbers_in_order = sorted(numbers)\n",
    "print(numbers_in_order)\n",
    "\n",
    "if numbers == numbers_in_order:\n",
    "    print(\"The lists are equal\")\n",
    "else:\n",
    "    print(\"The lists are not equal\")"
   ]
  },
  {
   "cell_type": "code",
   "execution_count": 9,
   "metadata": {},
   "outputs": [
    {
     "name": "stdout",
     "output_type": "stream",
     "text": [
      "The lists are equal\n"
     ]
    }
   ],
   "source": [
    "numbers_in_order = sorted(numbers)\n",
    "if numbers_in_order == sorted(numbers):\n",
    "    print(\"The lists are equal\")\n",
    "else:\n",
    "    print(\"The lists are not equal\")"
   ]
  },
  {
   "cell_type": "code",
   "execution_count": null,
   "metadata": {},
   "outputs": [],
   "source": []
  }
 ],
 "metadata": {
  "kernelspec": {
   "display_name": "Python 3",
   "language": "python",
   "name": "python3"
  },
  "language_info": {
   "codemirror_mode": {
    "name": "ipython",
    "version": 3
   },
   "file_extension": ".py",
   "mimetype": "text/x-python",
   "name": "python",
   "nbconvert_exporter": "python",
   "pygments_lexer": "ipython3",
   "version": "3.6.5"
  }
 },
 "nbformat": 4,
 "nbformat_minor": 2
}
