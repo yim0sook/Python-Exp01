{
 "cells": [
  {
   "cell_type": "code",
   "execution_count": null,
   "metadata": {},
   "outputs": [],
   "source": [
    "age = int(input(\"How old are you?\"))\n",
    "\n",
    "# if (age >= 16) and (age <= 65):\n",
    "if 16 <= age <= 65:\n",
    "    print(\"Have a good day at work\")"
   ]
  },
  {
   "cell_type": "code",
   "execution_count": null,
   "metadata": {},
   "outputs": [],
   "source": [
    "age = int(input(\"How old are you?\"))\n",
    "if (age <16) or (age > 65):\n",
    "    print(\"Enjoy your free time\")\n",
    "else:\n",
    "    print(\"Have a good day at work\")\n"
   ]
  },
  {
   "cell_type": "code",
   "execution_count": 3,
   "metadata": {},
   "outputs": [
    {
     "name": "stdout",
     "output_type": "stream",
     "text": [
      "x is true\n",
      "True\n",
      "False\n"
     ]
    }
   ],
   "source": [
    "# there is no boolean variable in python, instead if non-zero and non-empty values is true\n",
    "# if varialbe is zero or null, then false, so below if true true = 1 false = 0\n",
    "x= \"false\"\n",
    "if x:\n",
    "    print(\"x is true\")\n",
    "print(not False)\n",
    "print(not True)"
   ]
  },
  {
   "cell_type": "code",
   "execution_count": 2,
   "metadata": {},
   "outputs": [
    {
     "name": "stdout",
     "output_type": "stream",
     "text": [
      "Please enter some text45\n",
      "You entered '45'\n"
     ]
    }
   ],
   "source": [
    "x = input(\"Please enter some text\")\n",
    "if x:\n",
    "    print(\"You entered '{}'\".format(x))\n",
    "else:\n",
    "    print(\"You did not enter anything\")"
   ]
  },
  {
   "cell_type": "code",
   "execution_count": 5,
   "metadata": {},
   "outputs": [
    {
     "name": "stdout",
     "output_type": "stream",
     "text": [
      "How old are you?15\n",
      "Please come back in 3 years\n"
     ]
    }
   ],
   "source": [
    "age = int(input(\"How old are you?\"))\n",
    "if not(age<18):\n",
    "    print(\"You are old enought to vote\")\n",
    "    print(\"Please vote\")\n",
    "else:\n",
    "    print(\"Please come back in {0} years\".format(18 - age))\n",
    "\n"
   ]
  },
  {
   "cell_type": "code",
   "execution_count": 24,
   "metadata": {},
   "outputs": [
    {
     "name": "stdout",
     "output_type": "stream",
     "text": [
      "What is your name?youngsook\n",
      "How old are you?youngsook25\n",
      "Welcome to the Holiday\n"
     ]
    }
   ],
   "source": [
    "name = input(\"What is your name?\")\n",
    "age = int(input(\"How old are you?{0}\".format(name)))\n",
    "\n",
    "if (age is not None) and (name is not None) :\n",
    "    if 18 < age < 31:\n",
    "        print(\"Welcome to the Holiday\")\n",
    "    else:\n",
    "        print(\"Please come back\")\n",
    "else:\n",
    "    if name is None:\n",
    "        print(\"Please type your name\")\n",
    "    else:\n",
    "        print(\"Please enter your age\")\n",
    "    "
   ]
  },
  {
   "cell_type": "code",
   "execution_count": 32,
   "metadata": {},
   "outputs": [
    {
     "name": "stdout",
     "output_type": "stream",
     "text": [
      "i is now 1\n",
      "i is now 2\n",
      "i is now 3\n",
      "i is now 4\n",
      "i is now 5\n",
      "i is now 6\n",
      "i is now 7\n",
      "i is now 8\n",
      "i is now 9\n",
      "i is now 10\n",
      "i is now 11\n",
      "i is now 12\n",
      "i is now 13\n",
      "i is now 14\n",
      "i is now 15\n",
      "i is now 16\n",
      "i is now 17\n",
      "i is now 18\n",
      "i is now 19\n",
      "9423342423234243568"
     ]
    }
   ],
   "source": [
    "for i in range(1,20):\n",
    "    print(\"i is now {}\".format(i))\n",
    "\n",
    "number = \"9,423,342,423,234,243,568\"\n",
    "for i in range(0,len(number)):\n",
    "    if number[i] in '0123456789':\n",
    "        print(number[i], end='')\n"
   ]
  },
  {
   "cell_type": "code",
   "execution_count": 34,
   "metadata": {},
   "outputs": [
    {
     "name": "stdout",
     "output_type": "stream",
     "text": [
      "The number is 9423342423234243568 \n"
     ]
    }
   ],
   "source": [
    "number = \"9,423,342,423,234,243,568\"\n",
    "cleanNumber = ''\n",
    "\n",
    "for i in range(0,len(number)):\n",
    "    if number[i] in '0123456789':\n",
    "        cleanNumber = cleanNumber + number[i]\n",
    "\n",
    "newNumber = int(cleanNumber)\n",
    "print(\"The number is {} \".format(newNumber))"
   ]
  },
  {
   "cell_type": "code",
   "execution_count": 1,
   "metadata": {},
   "outputs": [
    {
     "name": "stdout",
     "output_type": "stream",
     "text": [
      "The number is 9423342423234243568 \n",
      "This parrot is not pipin\n",
      "This parrot is no more\n",
      "This parrot is a stiff\n",
      "This parrot is bereft of lift\n"
     ]
    }
   ],
   "source": [
    "number = \"9,423,342,423,234,243,568\"\n",
    "cleanNumber = ''\n",
    "\n",
    "for char in number: \n",
    "    if char in '0123456789':\n",
    "        cleanNumber = cleanNumber + char \n",
    "\n",
    "newNumber = int(cleanNumber)\n",
    "print(\"The number is {} \".format(newNumber))\n",
    "\n",
    "for state in [\"not pipin\",\"no more\",\"a stiff\",\"bereft of lift\"]:\n",
    "    print(\"This parrot is \" + state)\n",
    "    # same like print(\"This parrot is {}\".format(state))"
   ]
  },
  {
   "cell_type": "code",
   "execution_count": 4,
   "metadata": {},
   "outputs": [
    {
     "name": "stdout",
     "output_type": "stream",
     "text": [
      "i is 0\n",
      "i is 5\n",
      "i is 10\n",
      "i is 15\n",
      "i is 20\n",
      "i is 25\n",
      "i is 30\n",
      "i is 35\n",
      "i is 40\n",
      "i is 45\n",
      "i is 50\n",
      "i is 55\n",
      "i is 60\n",
      "i is 65\n",
      "i is 70\n",
      "i is 75\n",
      "i is 80\n",
      "i is 85\n",
      "i is 90\n",
      "i is 95\n"
     ]
    }
   ],
   "source": [
    "for i in range (0,100,5):\n",
    "    print(\"i is {}\".format(i))"
   ]
  },
  {
   "cell_type": "code",
   "execution_count": 9,
   "metadata": {},
   "outputs": [
    {
     "name": "stdout",
     "output_type": "stream",
     "text": [
      "1 time 1 is 1\t2 time 1 is 2\t3 time 1 is 3\t4 time 1 is 4\t5 time 1 is 5\t6 time 1 is 6\t7 time 1 is 7\t8 time 1 is 8\t9 time 1 is 9\t10 time 1 is 10\t11 time 1 is 11\t12 time 1 is 12\t==============================\n",
      "1 time 2 is 2\t2 time 2 is 4\t3 time 2 is 6\t4 time 2 is 8\t5 time 2 is 10\t6 time 2 is 12\t7 time 2 is 14\t8 time 2 is 16\t9 time 2 is 18\t10 time 2 is 20\t11 time 2 is 22\t12 time 2 is 24\t==============================\n",
      "1 time 3 is 3\t2 time 3 is 6\t3 time 3 is 9\t4 time 3 is 12\t5 time 3 is 15\t6 time 3 is 18\t7 time 3 is 21\t8 time 3 is 24\t9 time 3 is 27\t10 time 3 is 30\t11 time 3 is 33\t12 time 3 is 36\t==============================\n",
      "1 time 4 is 4\t2 time 4 is 8\t3 time 4 is 12\t4 time 4 is 16\t5 time 4 is 20\t6 time 4 is 24\t7 time 4 is 28\t8 time 4 is 32\t9 time 4 is 36\t10 time 4 is 40\t11 time 4 is 44\t12 time 4 is 48\t==============================\n",
      "1 time 5 is 5\t2 time 5 is 10\t3 time 5 is 15\t4 time 5 is 20\t5 time 5 is 25\t6 time 5 is 30\t7 time 5 is 35\t8 time 5 is 40\t9 time 5 is 45\t10 time 5 is 50\t11 time 5 is 55\t12 time 5 is 60\t==============================\n",
      "1 time 6 is 6\t2 time 6 is 12\t3 time 6 is 18\t4 time 6 is 24\t5 time 6 is 30\t6 time 6 is 36\t7 time 6 is 42\t8 time 6 is 48\t9 time 6 is 54\t10 time 6 is 60\t11 time 6 is 66\t12 time 6 is 72\t==============================\n",
      "1 time 7 is 7\t2 time 7 is 14\t3 time 7 is 21\t4 time 7 is 28\t5 time 7 is 35\t6 time 7 is 42\t7 time 7 is 49\t8 time 7 is 56\t9 time 7 is 63\t10 time 7 is 70\t11 time 7 is 77\t12 time 7 is 84\t==============================\n",
      "1 time 8 is 8\t2 time 8 is 16\t3 time 8 is 24\t4 time 8 is 32\t5 time 8 is 40\t6 time 8 is 48\t7 time 8 is 56\t8 time 8 is 64\t9 time 8 is 72\t10 time 8 is 80\t11 time 8 is 88\t12 time 8 is 96\t==============================\n",
      "1 time 9 is 9\t2 time 9 is 18\t3 time 9 is 27\t4 time 9 is 36\t5 time 9 is 45\t6 time 9 is 54\t7 time 9 is 63\t8 time 9 is 72\t9 time 9 is 81\t10 time 9 is 90\t11 time 9 is 99\t12 time 9 is 108\t==============================\n",
      "1 time 10 is 10\t2 time 10 is 20\t3 time 10 is 30\t4 time 10 is 40\t5 time 10 is 50\t6 time 10 is 60\t7 time 10 is 70\t8 time 10 is 80\t9 time 10 is 90\t10 time 10 is 100\t11 time 10 is 110\t12 time 10 is 120\t==============================\n",
      "1 time 11 is 11\t2 time 11 is 22\t3 time 11 is 33\t4 time 11 is 44\t5 time 11 is 55\t6 time 11 is 66\t7 time 11 is 77\t8 time 11 is 88\t9 time 11 is 99\t10 time 11 is 110\t11 time 11 is 121\t12 time 11 is 132\t==============================\n",
      "1 time 12 is 12\t2 time 12 is 24\t3 time 12 is 36\t4 time 12 is 48\t5 time 12 is 60\t6 time 12 is 72\t7 time 12 is 84\t8 time 12 is 96\t9 time 12 is 108\t10 time 12 is 120\t11 time 12 is 132\t12 time 12 is 144\t==============================\n"
     ]
    }
   ],
   "source": [
    "for i in range(1,13):\n",
    "    for j in range(1,13):\n",
    "        print(\"{1} time {0} is {2}\".format(i,j, i*j),end = '\\t')\n",
    "    print(\"==============================\")\n",
    "    # print('')\n",
    "        \n"
   ]
  },
  {
   "cell_type": "code",
   "execution_count": 5,
   "metadata": {},
   "outputs": [
    {
     "name": "stdout",
     "output_type": "stream",
     "text": [
      "Buy milk\n",
      "Buy pasta\n",
      "Buy eggs\n",
      "I am ignoring spam\n",
      "Buy bread\n",
      "Buy rice\n"
     ]
    }
   ],
   "source": [
    "shopping_list = [\"milk\",\"pasta\",\"eggs\",\"spam\",\"bread\",\"rice\"]\n",
    "for item in shopping_list:\n",
    "    if item == 'spam':\n",
    "        print(\"I am ignoring \" + item)\n",
    "        continue\n",
    "# continue stop the processing the inside of block command and go to for loop\n",
    "    print(\"Buy \" + item)"
   ]
  },
  {
   "cell_type": "code",
   "execution_count": 17,
   "metadata": {},
   "outputs": [
    {
     "name": "stdout",
     "output_type": "stream",
     "text": [
      "I'll have a plate for that\n"
     ]
    }
   ],
   "source": [
    "# shopping_list = [\"milk\",\"pasta\",\"eggs\",\"spam\",\"bread\",\"rice\"]\n",
    "# for item in shopping_list:\n",
    "#     if item == 'spam':\n",
    "#         break\n",
    "#         # break is get out for loop entirely and go to the next command after for loop\n",
    "#     print(\"Buy \" + item)\n",
    "\n",
    "meal = [\"egg\",\"bacon\",\"beans\",\"bread\",\"rice\"]\n",
    "nasty_item = ''\n",
    "for item in meal:\n",
    "    if item == 'spam':\n",
    "        nasty_item = item\n",
    "        break\n",
    "else:\n",
    "    print(\"I'll have a plate for that\")\n",
    "if nasty_item == 'spam':\n",
    "    print(\"can't I have anything withoug spam in it\")\n"
   ]
  },
  {
   "cell_type": "code",
   "execution_count": 22,
   "metadata": {},
   "outputs": [
    {
     "name": "stdout",
     "output_type": "stream",
     "text": [
      "The number is 3425654765867356654\n"
     ]
    }
   ],
   "source": [
    "number = \"3,425,654,765,867,356,654\"\n",
    "cleanedNumber = ''\n",
    "\n",
    "for i in range(0,len(number)):\n",
    "    if number[i] in '0123456789':\n",
    "        cleanedNumber += number[i]\n",
    "        # same as 'cleanedNumber = cleanednumber + number[i]'\n",
    "newNumber = int(cleanedNumber)\n",
    "print(\"The number is {}\".format(newNumber))\n"
   ]
  },
  {
   "cell_type": "code",
   "execution_count": 25,
   "metadata": {},
   "outputs": [
    {
     "name": "stdout",
     "output_type": "stream",
     "text": [
      "24\n",
      "20\n",
      "100\n",
      "25.0\n",
      "625.0\n",
      "25.0\n",
      "Good morning \n",
      "Good morning Good morning Good morning Good morning Good morning \n"
     ]
    }
   ],
   "source": [
    "x = 23\n",
    "x += 1\n",
    "print(x)\n",
    "x -= 4\n",
    "print(x)\n",
    "x *= 5\n",
    "print(x)\n",
    "\n",
    "x /=4\n",
    "print(x)\n",
    "\n",
    "x **= 2\n",
    "print(x)\n",
    "\n",
    "x %= 60\n",
    "print(x)\n",
    "\n",
    "greeting = \"Good \"\n",
    "greeting += \"morning \"\n",
    "print(greeting)\n",
    "\n",
    "greeting *= 5\n",
    "print(greeting)\n",
    "# replicate the contents 5 times\n",
    "\n",
    "# +=  -=  *=  /=  %=  **=  <<=  >>=  &=  ^=  |="
   ]
  },
  {
   "cell_type": "code",
   "execution_count": null,
   "metadata": {},
   "outputs": [],
   "source": [
    "sdf"
   ]
  }
 ],
 "metadata": {
  "kernelspec": {
   "display_name": "Python 3",
   "language": "python",
   "name": "python3"
  },
  "language_info": {
   "codemirror_mode": {
    "name": "ipython",
    "version": 3
   },
   "file_extension": ".py",
   "mimetype": "text/x-python",
   "name": "python",
   "nbconvert_exporter": "python",
   "pygments_lexer": "ipython3",
   "version": "3.6.5"
  }
 },
 "nbformat": 4,
 "nbformat_minor": 2
}

      
